{
 "cells": [
  {
   "cell_type": "code",
   "execution_count": 1,
   "metadata": {},
   "outputs": [],
   "source": [
    "%load_ext autoreload\n",
    "%autoreload 2\n",
    "%matplotlib inline\n",
    "%config InlineBackend.figure_format = 'retina'\n",
    "\n",
    "from pandas_summary import DataFrameSummary\n",
    "from pathlib import Path\n",
    "\n",
    "import os, math\n",
    "import pandas as pd\n",
    "import matplotlib.pyplot as plt\n",
    "import numpy as np\n",
    "import seaborn as sns\n",
    "\n",
    "pd.set_option('display.max_columns', 1000)\n",
    "pd.set_option('display.max_rows', 400)\n",
    "sns.set()\n",
    "os.chdir('/home/krivas/projects/analysis-project/')\n",
    "from src.utils import convert_int, convert_date,\\\n",
    "                        add_median_features, add_date_diffs, add_days_count, add_date_features,\\\n",
    "                        make_set, run_model, apply_cats\n"
   ]
  },
  {
   "cell_type": "code",
   "execution_count": 2,
   "metadata": {},
   "outputs": [],
   "source": [
    "from sklearn.metrics import mean_squared_error"
   ]
  },
  {
   "cell_type": "code",
   "execution_count": 3,
   "metadata": {},
   "outputs": [],
   "source": [
    "DATA        = Path('data')\n",
    "RAW         = DATA/'raw'\n",
    "PROCESSED   = DATA/'processed'"
   ]
  },
  {
   "cell_type": "markdown",
   "metadata": {},
   "source": [
    "# Reading data"
   ]
  },
  {
   "cell_type": "code",
   "execution_count": 4,
   "metadata": {},
   "outputs": [],
   "source": [
    "csv = pd.read_csv(PROCESSED/'HistoricoJob.csv')"
   ]
  },
  {
   "cell_type": "code",
   "execution_count": 5,
   "metadata": {},
   "outputs": [
    {
     "data": {
      "text/plain": [
       "Index(['Id_HistoricoJob', 'Id_Job', 'Id_Malla', 'Fecha_Carga_Scheduler',\n",
       "       'Fecha_Ejec_Inicio', 'Fecha_Ejec_Fin', 'Duracion', 'Promedio', 'Agente',\n",
       "       'Mxrc', 'Maxcmpc', 'Grupo', 'Force_Complete', 'CCF', 'Estado',\n",
       "       'duracion_int', 'promedio_int', 'Fecha_Ejec_Inicio_Int',\n",
       "       'Hora_Ejec_Inicio_Int', 'Fecha_Ejec_Fin_Int', 'Hora_Ejec_Fin_Int',\n",
       "       'DiaSemana', 'hubo_error'],\n",
       "      dtype='object')"
      ]
     },
     "execution_count": 5,
     "metadata": {},
     "output_type": "execute_result"
    }
   ],
   "source": [
    "csv.columns"
   ]
  },
  {
   "cell_type": "code",
   "execution_count": 6,
   "metadata": {},
   "outputs": [],
   "source": [
    "target_date = int(csv.Fecha_Ejec_Inicio_Int.max())\n",
    "start_date = 20180401"
   ]
  },
  {
   "cell_type": "code",
   "execution_count": 7,
   "metadata": {},
   "outputs": [
    {
     "name": "stdout",
     "output_type": "stream",
     "text": [
      "CPU times: user 50.3 s, sys: 68 ms, total: 50.3 s\n",
      "Wall time: 50.3 s\n"
     ]
    }
   ],
   "source": [
    "%%time\n",
    "days_data = []\n",
    "for date in range(start_date, target_date + 1):\n",
    "    if date in csv.Fecha_Ejec_Inicio_Int.unique():\n",
    "        days_data.append(make_set(csv.loc[csv['Fecha_Ejec_Inicio_Int'] == date], csv.loc[(csv['Fecha_Ejec_Inicio_Int'] == target_date) & (csv['hubo_error'] == 0)]))"
   ]
  },
  {
   "cell_type": "markdown",
   "metadata": {},
   "source": [
    "# Preprocessing"
   ]
  },
  {
   "cell_type": "code",
   "execution_count": 8,
   "metadata": {},
   "outputs": [],
   "source": [
    "from tqdm import tqdm"
   ]
  },
  {
   "cell_type": "code",
   "execution_count": 9,
   "metadata": {},
   "outputs": [
    {
     "name": "stderr",
     "output_type": "stream",
     "text": [
      "100%|██████████| 43/43 [15:56<00:00, 22.24s/it]"
     ]
    },
    {
     "name": "stdout",
     "output_type": "stream",
     "text": [
      "CPU times: user 13min 51s, sys: 2min 5s, total: 15min 56s\n",
      "Wall time: 15min 56s\n"
     ]
    },
    {
     "name": "stderr",
     "output_type": "stream",
     "text": [
      "\n"
     ]
    }
   ],
   "source": [
    "%%time\n",
    "for temp in tqdm(days_data):\n",
    "    add_date_diffs(temp, csv)\n",
    "    add_days_count(temp, csv)\n",
    "    add_date_features(temp)\n",
    "    add_median_features(temp, csv, 3)"
   ]
  },
  {
   "cell_type": "code",
   "execution_count": 10,
   "metadata": {},
   "outputs": [],
   "source": [
    "# Reading dumps\n",
    "from surprise import dump\n",
    "\n",
    "svd = dump.load(PROCESSED/'svd_15.dump')[1]"
   ]
  },
  {
   "cell_type": "code",
   "execution_count": 11,
   "metadata": {},
   "outputs": [
    {
     "name": "stderr",
     "output_type": "stream",
     "text": [
      "100%|██████████| 43/43 [00:16<00:00,  2.63it/s]\n"
     ]
    }
   ],
   "source": [
    "# Adding biases\n",
    "uid = svd.trainset._raw2inner_id_users\n",
    "iid = svd.trainset._raw2inner_id_items\n",
    "\n",
    "for temp in tqdm(days_data):\n",
    "    # Adding factors features\n",
    "    fact_job = np.array([svd.pu[uid[cIdx]] for cIdx in temp.Id_Job])\n",
    "    fact_mesh = np.array([svd.qi[iid[iIdx]] for iIdx in temp.Id_Malla])\n",
    "    # for ixf in range(fact_job.shape[1]):\n",
    "    temp['f_job']  = fact_job.prod(axis=1)\n",
    "    temp['f_mesh']  = fact_mesh.prod(axis=1)\n",
    "    temp['fail_bias'] = temp.apply(lambda row: svd.predict(row['Id_Job'], row['Id_Malla'])[3], axis=1)\n",
    "    "
   ]
  },
  {
   "cell_type": "code",
   "execution_count": 12,
   "metadata": {},
   "outputs": [
    {
     "data": {
      "text/html": [
       "<div>\n",
       "<style scoped>\n",
       "    .dataframe tbody tr th:only-of-type {\n",
       "        vertical-align: middle;\n",
       "    }\n",
       "\n",
       "    .dataframe tbody tr th {\n",
       "        vertical-align: top;\n",
       "    }\n",
       "\n",
       "    .dataframe thead th {\n",
       "        text-align: right;\n",
       "    }\n",
       "</style>\n",
       "<table border=\"1\" class=\"dataframe\">\n",
       "  <thead>\n",
       "    <tr style=\"text-align: right;\">\n",
       "      <th></th>\n",
       "      <th>Fecha_Ejec_Inicio_Int</th>\n",
       "      <th>Id_Job</th>\n",
       "      <th>Id_Malla</th>\n",
       "      <th>duracion_int</th>\n",
       "      <th>DaysSinceMainframeOp</th>\n",
       "      <th>DaysSinceMainframeOpFail</th>\n",
       "      <th>DaysCountMainframeOp</th>\n",
       "      <th>DaysCountMainframeOpFail</th>\n",
       "      <th>DiaSemana</th>\n",
       "      <th>promedio_por_dia</th>\n",
       "      <th>promedio_por_semana</th>\n",
       "      <th>promedio_por_mes</th>\n",
       "      <th>promedio_por_semana_anterior</th>\n",
       "      <th>promedio_por_dia_anterior</th>\n",
       "      <th>f_job</th>\n",
       "      <th>f_mesh</th>\n",
       "      <th>fail_bias</th>\n",
       "    </tr>\n",
       "  </thead>\n",
       "  <tbody>\n",
       "    <tr>\n",
       "      <th>0</th>\n",
       "      <td>20180401.0</td>\n",
       "      <td>@DF2LIAB</td>\n",
       "      <td>00FBFCL2</td>\n",
       "      <td>7.0</td>\n",
       "      <td>292</td>\n",
       "      <td>274</td>\n",
       "      <td>246</td>\n",
       "      <td>0</td>\n",
       "      <td>6</td>\n",
       "      <td>NaN</td>\n",
       "      <td>7.5</td>\n",
       "      <td>9.0</td>\n",
       "      <td>NaN</td>\n",
       "      <td>12.0</td>\n",
       "      <td>2.360020e-19</td>\n",
       "      <td>6.554049e-22</td>\n",
       "      <td>0.046843</td>\n",
       "    </tr>\n",
       "    <tr>\n",
       "      <th>1</th>\n",
       "      <td>20180401.0</td>\n",
       "      <td>@DF2NO92</td>\n",
       "      <td>02FMIH92</td>\n",
       "      <td>0.0</td>\n",
       "      <td>292</td>\n",
       "      <td>274</td>\n",
       "      <td>593</td>\n",
       "      <td>0</td>\n",
       "      <td>6</td>\n",
       "      <td>0.0</td>\n",
       "      <td>0.0</td>\n",
       "      <td>0.0</td>\n",
       "      <td>0.0</td>\n",
       "      <td>0.0</td>\n",
       "      <td>-5.027472e-22</td>\n",
       "      <td>-7.863664e-19</td>\n",
       "      <td>0.068794</td>\n",
       "    </tr>\n",
       "    <tr>\n",
       "      <th>2</th>\n",
       "      <td>20180401.0</td>\n",
       "      <td>@E0WA949</td>\n",
       "      <td>02WA192H</td>\n",
       "      <td>0.0</td>\n",
       "      <td>121</td>\n",
       "      <td>274</td>\n",
       "      <td>2</td>\n",
       "      <td>0</td>\n",
       "      <td>6</td>\n",
       "      <td>NaN</td>\n",
       "      <td>NaN</td>\n",
       "      <td>1.0</td>\n",
       "      <td>NaN</td>\n",
       "      <td>NaN</td>\n",
       "      <td>1.603025e-16</td>\n",
       "      <td>7.009740e-20</td>\n",
       "      <td>0.108905</td>\n",
       "    </tr>\n",
       "    <tr>\n",
       "      <th>3</th>\n",
       "      <td>20180401.0</td>\n",
       "      <td>@E0WA969</td>\n",
       "      <td>02WA192H</td>\n",
       "      <td>0.0</td>\n",
       "      <td>121</td>\n",
       "      <td>274</td>\n",
       "      <td>2</td>\n",
       "      <td>0</td>\n",
       "      <td>6</td>\n",
       "      <td>NaN</td>\n",
       "      <td>NaN</td>\n",
       "      <td>1.0</td>\n",
       "      <td>NaN</td>\n",
       "      <td>NaN</td>\n",
       "      <td>4.318834e-18</td>\n",
       "      <td>7.009740e-20</td>\n",
       "      <td>0.023435</td>\n",
       "    </tr>\n",
       "    <tr>\n",
       "      <th>4</th>\n",
       "      <td>20180401.0</td>\n",
       "      <td>@E2A6961</td>\n",
       "      <td>02A6H993</td>\n",
       "      <td>4.0</td>\n",
       "      <td>292</td>\n",
       "      <td>274</td>\n",
       "      <td>296</td>\n",
       "      <td>0</td>\n",
       "      <td>6</td>\n",
       "      <td>5.0</td>\n",
       "      <td>5.0</td>\n",
       "      <td>4.0</td>\n",
       "      <td>6.0</td>\n",
       "      <td>6.0</td>\n",
       "      <td>1.072879e-17</td>\n",
       "      <td>1.411955e-20</td>\n",
       "      <td>0.001501</td>\n",
       "    </tr>\n",
       "  </tbody>\n",
       "</table>\n",
       "</div>"
      ],
      "text/plain": [
       "   Fecha_Ejec_Inicio_Int    Id_Job  Id_Malla  duracion_int  \\\n",
       "0             20180401.0  @DF2LIAB  00FBFCL2           7.0   \n",
       "1             20180401.0  @DF2NO92  02FMIH92           0.0   \n",
       "2             20180401.0  @E0WA949  02WA192H           0.0   \n",
       "3             20180401.0  @E0WA969  02WA192H           0.0   \n",
       "4             20180401.0  @E2A6961  02A6H993           4.0   \n",
       "\n",
       "   DaysSinceMainframeOp  DaysSinceMainframeOpFail  DaysCountMainframeOp  \\\n",
       "0                   292                       274                   246   \n",
       "1                   292                       274                   593   \n",
       "2                   121                       274                     2   \n",
       "3                   121                       274                     2   \n",
       "4                   292                       274                   296   \n",
       "\n",
       "   DaysCountMainframeOpFail  DiaSemana  promedio_por_dia  promedio_por_semana  \\\n",
       "0                         0          6               NaN                  7.5   \n",
       "1                         0          6               0.0                  0.0   \n",
       "2                         0          6               NaN                  NaN   \n",
       "3                         0          6               NaN                  NaN   \n",
       "4                         0          6               5.0                  5.0   \n",
       "\n",
       "   promedio_por_mes  promedio_por_semana_anterior  promedio_por_dia_anterior  \\\n",
       "0               9.0                           NaN                       12.0   \n",
       "1               0.0                           0.0                        0.0   \n",
       "2               1.0                           NaN                        NaN   \n",
       "3               1.0                           NaN                        NaN   \n",
       "4               4.0                           6.0                        6.0   \n",
       "\n",
       "          f_job        f_mesh  fail_bias  \n",
       "0  2.360020e-19  6.554049e-22   0.046843  \n",
       "1 -5.027472e-22 -7.863664e-19   0.068794  \n",
       "2  1.603025e-16  7.009740e-20   0.108905  \n",
       "3  4.318834e-18  7.009740e-20   0.023435  \n",
       "4  1.072879e-17  1.411955e-20   0.001501  "
      ]
     },
     "execution_count": 12,
     "metadata": {},
     "output_type": "execute_result"
    }
   ],
   "source": [
    "days_data[0].head()"
   ]
  },
  {
   "cell_type": "markdown",
   "metadata": {},
   "source": [
    "# Grid Search"
   ]
  },
  {
   "cell_type": "code",
   "execution_count": 13,
   "metadata": {},
   "outputs": [],
   "source": [
    "from src.utils import run_model\n",
    "from lightgbm import LGBMRegressor\n",
    "from sklearn.model_selection import GridSearchCV, StratifiedKFold\n",
    "import lightgbm"
   ]
  },
  {
   "cell_type": "code",
   "execution_count": 14,
   "metadata": {},
   "outputs": [],
   "source": [
    "target_col = 'duracion_int'\n",
    "pred_col = 'Prediccion'\n",
    "id_cols = ['Fecha_Ejec_Inicio_Int', 'Id_Job', 'Id_Malla']\n",
    "metric_names = ['mse']\n",
    "days_data[len(days_data) - 1][pred_col] = 0"
   ]
  },
  {
   "cell_type": "code",
   "execution_count": 15,
   "metadata": {},
   "outputs": [
    {
     "name": "stdout",
     "output_type": "stream",
     "text": [
      "CPU times: user 72 ms, sys: 56 ms, total: 128 ms\n",
      "Wall time: 127 ms\n"
     ]
    }
   ],
   "source": [
    "%%time\n",
    "\n",
    "train, val, test = pd.concat(days_data[:len(days_data)-1], axis=0), days_data[-1], days_data[-1]\n",
    "X_train, y_train = train.drop(id_cols + [target_col], axis=1), \\\n",
    "                       train[target_col]\n",
    "X_test = test.drop(id_cols + [target_col, pred_col], axis=1)"
   ]
  },
  {
   "cell_type": "code",
   "execution_count": 21,
   "metadata": {},
   "outputs": [
    {
     "name": "stdout",
     "output_type": "stream",
     "text": [
      "Best parameters found by grid search are: {'boosting_type': 'gbdt', 'max_depth': 30, 'n_estimators': 400, 'num_leaves': 50}\n"
     ]
    }
   ],
   "source": [
    "estimator = LGBMRegressor(n_jobs=1, random_state=42)\n",
    "\n",
    "param_grid = {\n",
    "    'n_estimators': [200, 400],\n",
    "    'boosting_type': ['dart', 'gbdt'],\n",
    "    'num_leaves': [31, 50],\n",
    "    'max_depth': [30, 50]\n",
    "}\n",
    "\n",
    "gbm = GridSearchCV(estimator, param_grid, cv=5)\n",
    "\n",
    "gbm.fit(X_train, y_train)\n",
    "\n",
    "print('Best parameters found by grid search are:', gbm.best_params_)"
   ]
  },
  {
   "cell_type": "code",
   "execution_count": 22,
   "metadata": {},
   "outputs": [
    {
     "data": {
      "text/plain": [
       "{'boosting_type': 'gbdt',\n",
       " 'max_depth': 30,\n",
       " 'n_estimators': 400,\n",
       " 'num_leaves': 50}"
      ]
     },
     "execution_count": 22,
     "metadata": {},
     "output_type": "execute_result"
    }
   ],
   "source": [
    "gbm.best_params_"
   ]
  },
  {
   "cell_type": "markdown",
   "metadata": {},
   "source": [
    "# Cross validation with best params"
   ]
  },
  {
   "cell_type": "code",
   "execution_count": 2,
   "metadata": {},
   "outputs": [],
   "source": [
    "from sklearn.metrics import mean_absolute_error\n",
    "dftrainLGB = lightgbm.Dataset(data = X_train, label = y_train, feature_name = list(X_train))\n",
    "\n",
    "params = {'objective': 'regression', 'num_leaves': 50, 'max_depth': 50, 'n_estimators': 400, 'random_state': 42}"
   ]
  },
  {
   "cell_type": "code",
   "execution_count": 47,
   "metadata": {},
   "outputs": [],
   "source": [
    "cv_results = lightgbm.cv(\n",
    "        params,\n",
    "        dftrainLGB,\n",
    "        num_boost_round=100,\n",
    "        nfold=3,\n",
    "        metrics='mae',\n",
    "        early_stopping_rounds=30,\n",
    "        stratified=False\n",
    "        )"
   ]
  },
  {
   "cell_type": "code",
   "execution_count": 48,
   "metadata": {},
   "outputs": [
    {
     "data": {
      "text/plain": [
       "{'l1-mean': [2375.773512545981,\n",
       "  2144.7419894305726,\n",
       "  1937.4104068137551,\n",
       "  1750.9921634585419,\n",
       "  1583.5519959484702,\n",
       "  1433.0686383181173,\n",
       "  1297.9906916096327,\n",
       "  1176.7763674805028,\n",
       "  1067.8997514619234,\n",
       "  970.1451456398308,\n",
       "  882.5124877242997,\n",
       "  803.7671725916639,\n",
       "  733.0707843010324,\n",
       "  669.628441388504,\n",
       "  612.7016093796874,\n",
       "  561.7172411978004,\n",
       "  515.9886044894183,\n",
       "  475.0457262117722,\n",
       "  438.3683006392809,\n",
       "  405.37024668939284,\n",
       "  375.8359974063321,\n",
       "  349.39802145005706,\n",
       "  325.89979062585263,\n",
       "  304.65901355260866,\n",
       "  285.65990914977357,\n",
       "  268.618930902525,\n",
       "  253.49575044104367,\n",
       "  239.8967056680467,\n",
       "  227.58579720372418,\n",
       "  216.66152637740194,\n",
       "  207.01557484753525,\n",
       "  198.3190678595308,\n",
       "  190.49348894503035,\n",
       "  183.46574112911358,\n",
       "  177.2300945379925,\n",
       "  171.5914896825358,\n",
       "  166.68846900148682,\n",
       "  162.29405641105464,\n",
       "  158.26121277375708,\n",
       "  154.790559904289,\n",
       "  151.71532024798535,\n",
       "  148.8275779813142,\n",
       "  146.15392300944401,\n",
       "  143.96682891654152,\n",
       "  141.8800810407672,\n",
       "  140.10531725959606,\n",
       "  138.4301344839516,\n",
       "  136.84047108769906,\n",
       "  135.51073027575433,\n",
       "  134.21514185405672,\n",
       "  133.11364146963945,\n",
       "  132.17797752001493,\n",
       "  131.3527685734342,\n",
       "  130.45051622219538,\n",
       "  129.64904781405667,\n",
       "  129.09316099090634,\n",
       "  128.57149431952223,\n",
       "  127.98146914947415,\n",
       "  127.5435094033876,\n",
       "  127.0920294020085,\n",
       "  126.67416423654213,\n",
       "  126.3988302483145,\n",
       "  126.07461611838926,\n",
       "  125.77993159437408,\n",
       "  125.60067812316667,\n",
       "  125.4071300514371,\n",
       "  125.16432306637397,\n",
       "  124.97560500391175,\n",
       "  124.78548535623669,\n",
       "  124.6293511558056,\n",
       "  124.45096213581452,\n",
       "  124.26305478509231,\n",
       "  124.00153380215863,\n",
       "  123.8693554451202,\n",
       "  123.66402800502279,\n",
       "  123.52185534123,\n",
       "  123.38424737849151,\n",
       "  123.26787181497757,\n",
       "  123.14494144879619,\n",
       "  123.06761607624757,\n",
       "  122.98336516390769,\n",
       "  122.8616923705013,\n",
       "  122.77001883088131,\n",
       "  122.69910605439763,\n",
       "  122.60895929950982,\n",
       "  122.49113208391522,\n",
       "  122.41508502499063,\n",
       "  122.35370808462115,\n",
       "  122.31149731428725,\n",
       "  122.24679559926903,\n",
       "  122.16146312801656,\n",
       "  122.1226601736907,\n",
       "  122.07187782080162,\n",
       "  122.06419638723123,\n",
       "  122.02881552106611,\n",
       "  121.99504487475299,\n",
       "  121.93545816185747,\n",
       "  121.87830848054217,\n",
       "  121.85793475442755,\n",
       "  121.81181231838288],\n",
       " 'l1-stdv': [10.602246720993698,\n",
       "  9.254317400585814,\n",
       "  8.068628810894888,\n",
       "  6.934465324310697,\n",
       "  5.942822402172305,\n",
       "  4.947391913682362,\n",
       "  4.1616305854068445,\n",
       "  3.488559911866606,\n",
       "  2.706748963175682,\n",
       "  2.15003789478626,\n",
       "  1.6883749121709086,\n",
       "  1.3351376347822435,\n",
       "  0.967395581421426,\n",
       "  0.7995853418429341,\n",
       "  0.7877076957848606,\n",
       "  0.989207606178795,\n",
       "  1.1816784457228813,\n",
       "  1.3892171049229471,\n",
       "  1.5372219595567578,\n",
       "  1.7195796950529432,\n",
       "  1.8514808980702957,\n",
       "  1.9347675845917505,\n",
       "  2.0760166259547277,\n",
       "  2.1934183014043787,\n",
       "  2.360188226131403,\n",
       "  2.4618833263736226,\n",
       "  2.511634332894031,\n",
       "  2.644097373149657,\n",
       "  2.689191056907467,\n",
       "  2.7133674155082663,\n",
       "  2.7273545019821834,\n",
       "  2.785992790718508,\n",
       "  2.777575494230194,\n",
       "  2.803540657163929,\n",
       "  2.819029486285118,\n",
       "  2.850749536559399,\n",
       "  2.9290656160798547,\n",
       "  2.899244276622276,\n",
       "  2.893716310926373,\n",
       "  2.9774133813710337,\n",
       "  3.0110543001588077,\n",
       "  2.9895155999630796,\n",
       "  2.9913877848879844,\n",
       "  3.0412635781739326,\n",
       "  2.9778815754299828,\n",
       "  3.0283368937507444,\n",
       "  3.0486549970487213,\n",
       "  3.197036686907519,\n",
       "  3.173589655253281,\n",
       "  3.20695795187195,\n",
       "  3.151774397605108,\n",
       "  3.2059516419481153,\n",
       "  3.241868190811075,\n",
       "  3.178877712646462,\n",
       "  3.167664073569279,\n",
       "  3.1723636791179373,\n",
       "  3.161467231755532,\n",
       "  3.1014290883009683,\n",
       "  2.9887375019487035,\n",
       "  2.942698962696066,\n",
       "  3.054996848130937,\n",
       "  3.097652312845782,\n",
       "  3.0450921182464445,\n",
       "  2.976643194285691,\n",
       "  3.0125017101780176,\n",
       "  3.0594084976003644,\n",
       "  3.0541125708696084,\n",
       "  3.0168096962276647,\n",
       "  2.98014696702324,\n",
       "  2.976308559013624,\n",
       "  2.9857904864669913,\n",
       "  2.944105352722427,\n",
       "  3.005095874849422,\n",
       "  3.0423518233820883,\n",
       "  3.038777651699902,\n",
       "  2.941823765720318,\n",
       "  2.9629481804857356,\n",
       "  2.9040131065616794,\n",
       "  2.902269458721843,\n",
       "  2.9460785145660404,\n",
       "  2.956139700853816,\n",
       "  2.925586240274373,\n",
       "  2.932117747690183,\n",
       "  2.909180204327952,\n",
       "  2.911372231336258,\n",
       "  2.9139736278510595,\n",
       "  2.9117751388487445,\n",
       "  2.9852019365465874,\n",
       "  2.9971009173488197,\n",
       "  3.013997691334713,\n",
       "  2.991140880968094,\n",
       "  2.9868405256454733,\n",
       "  2.960189798229778,\n",
       "  2.960140310236631,\n",
       "  2.96151335854966,\n",
       "  2.9380334823361136,\n",
       "  2.8710178191999653,\n",
       "  2.904156141726154,\n",
       "  2.887863836362662,\n",
       "  2.880400904109293]}"
      ]
     },
     "execution_count": 48,
     "metadata": {},
     "output_type": "execute_result"
    }
   ],
   "source": [
    "cv_results"
   ]
  },
  {
   "cell_type": "code",
   "execution_count": null,
   "metadata": {},
   "outputs": [],
   "source": []
  }
 ],
 "metadata": {
  "kernelspec": {
   "display_name": "Python 3",
   "language": "python",
   "name": "python3"
  },
  "language_info": {
   "codemirror_mode": {
    "name": "ipython",
    "version": 3
   },
   "file_extension": ".py",
   "mimetype": "text/x-python",
   "name": "python",
   "nbconvert_exporter": "python",
   "pygments_lexer": "ipython3",
   "version": "3.6.4"
  }
 },
 "nbformat": 4,
 "nbformat_minor": 2
}
