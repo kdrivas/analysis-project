{
 "cells": [
  {
   "cell_type": "code",
   "execution_count": 87,
   "metadata": {
    "collapsed": true
   },
   "outputs": [],
   "source": [
    "import os, math\n",
    "import pandas as pd\n",
    "import matplotlib.pyplot as plt\n",
    "import numpy as np\n",
    "from pandas_summary import DataFrameSummary\n",
    "from pathlib import Path\n",
    "import seaborn as sns\n",
    "\n",
    "sns.set()\n",
    "os.chdir('/home/krivas/projects/analysis-project/')\n",
    "from src.utils import convertInt, convertDate\n",
    "\n",
    "%matplotlib inline"
   ]
  },
  {
   "cell_type": "code",
   "execution_count": 88,
   "metadata": {},
   "outputs": [],
   "source": [
    "DATA        = Path('data')\n",
    "RAW         = DATA/'raw'\n",
    "PROCESSED   = DATA/'processed'"
   ]
  },
  {
   "cell_type": "code",
   "execution_count": 89,
   "metadata": {
    "collapsed": true
   },
   "outputs": [],
   "source": [
    "csv = pd.read_excel(RAW/'HistoricoJob02.csv.xlsx')"
   ]
  },
  {
   "cell_type": "code",
   "execution_count": 90,
   "metadata": {},
   "outputs": [
    {
     "data": {
      "text/html": [
       "<div>\n",
       "<style scoped>\n",
       "    .dataframe tbody tr th:only-of-type {\n",
       "        vertical-align: middle;\n",
       "    }\n",
       "\n",
       "    .dataframe tbody tr th {\n",
       "        vertical-align: top;\n",
       "    }\n",
       "\n",
       "    .dataframe thead th {\n",
       "        text-align: right;\n",
       "    }\n",
       "</style>\n",
       "<table border=\"1\" class=\"dataframe\">\n",
       "  <thead>\n",
       "    <tr style=\"text-align: right;\">\n",
       "      <th></th>\n",
       "      <th>Id_HistoricoJob</th>\n",
       "      <th>Id_Job</th>\n",
       "      <th>Id_Malla</th>\n",
       "      <th>Fecha_Carga_Scheduler</th>\n",
       "      <th>Fecha_Ejec_Inicio</th>\n",
       "      <th>Fecha_Ejec_Fin</th>\n",
       "      <th>Duracion</th>\n",
       "      <th>Promedio</th>\n",
       "      <th>Agente</th>\n",
       "      <th>Mxrc</th>\n",
       "      <th>Maxcmpc</th>\n",
       "      <th>Grupo</th>\n",
       "      <th>Force_Complete</th>\n",
       "      <th>CCF</th>\n",
       "      <th>Estado</th>\n",
       "    </tr>\n",
       "  </thead>\n",
       "  <tbody>\n",
       "    <tr>\n",
       "      <th>0</th>\n",
       "      <td>1559926</td>\n",
       "      <td>ENENQY24</td>\n",
       "      <td>02NQYM24</td>\n",
       "      <td>2017-07-27 00:01:00</td>\n",
       "      <td>2017-07-27 05:00:02</td>\n",
       "      <td>2017-07-27 05:13:13</td>\n",
       "      <td>13M10</td>\n",
       "      <td>14M00</td>\n",
       "      <td>NaN</td>\n",
       "      <td>1</td>\n",
       "      <td>1</td>\n",
       "      <td>SCHE01</td>\n",
       "      <td>NO</td>\n",
       "      <td>NO</td>\n",
       "      <td>ENDED</td>\n",
       "    </tr>\n",
       "    <tr>\n",
       "      <th>1</th>\n",
       "      <td>1559927</td>\n",
       "      <td>ENERFI24</td>\n",
       "      <td>02TRFI24</td>\n",
       "      <td>2017-07-26 00:01:00</td>\n",
       "      <td>2017-07-26 15:16:14</td>\n",
       "      <td>2017-07-26 15:16:20</td>\n",
       "      <td>6</td>\n",
       "      <td>1M00</td>\n",
       "      <td>NaN</td>\n",
       "      <td>0</td>\n",
       "      <td>0</td>\n",
       "      <td>SCHE01</td>\n",
       "      <td>NO</td>\n",
       "      <td>NO</td>\n",
       "      <td>ENDED</td>\n",
       "    </tr>\n",
       "    <tr>\n",
       "      <th>2</th>\n",
       "      <td>1559928</td>\n",
       "      <td>ENEREF24</td>\n",
       "      <td>02TREF24</td>\n",
       "      <td>2017-07-27 00:01:00</td>\n",
       "      <td>2017-07-27 15:00:04</td>\n",
       "      <td>2017-07-27 15:00:06</td>\n",
       "      <td>2</td>\n",
       "      <td>-</td>\n",
       "      <td>NaN</td>\n",
       "      <td>0</td>\n",
       "      <td>0</td>\n",
       "      <td>SCHE01</td>\n",
       "      <td>NO</td>\n",
       "      <td>NO</td>\n",
       "      <td>ENDED</td>\n",
       "    </tr>\n",
       "    <tr>\n",
       "      <th>3</th>\n",
       "      <td>1559929</td>\n",
       "      <td>ENEREF24</td>\n",
       "      <td>02TREF24</td>\n",
       "      <td>2017-07-26 00:01:00</td>\n",
       "      <td>2017-07-26 15:00:05</td>\n",
       "      <td>2017-07-26 15:00:07</td>\n",
       "      <td>2</td>\n",
       "      <td>-</td>\n",
       "      <td>NaN</td>\n",
       "      <td>0</td>\n",
       "      <td>0</td>\n",
       "      <td>SCHE01</td>\n",
       "      <td>NO</td>\n",
       "      <td>NO</td>\n",
       "      <td>ENDED</td>\n",
       "    </tr>\n",
       "    <tr>\n",
       "      <th>4</th>\n",
       "      <td>1559930</td>\n",
       "      <td>ENEREE24</td>\n",
       "      <td>02KCLI24</td>\n",
       "      <td>2017-07-27 00:01:00</td>\n",
       "      <td>2017-07-27 13:18:27</td>\n",
       "      <td>2017-07-27 13:18:29</td>\n",
       "      <td>2</td>\n",
       "      <td>-</td>\n",
       "      <td>NaN</td>\n",
       "      <td>0</td>\n",
       "      <td>0</td>\n",
       "      <td>SCHE01</td>\n",
       "      <td>NO</td>\n",
       "      <td>NO</td>\n",
       "      <td>ENDED</td>\n",
       "    </tr>\n",
       "  </tbody>\n",
       "</table>\n",
       "</div>"
      ],
      "text/plain": [
       "   Id_HistoricoJob    Id_Job  Id_Malla Fecha_Carga_Scheduler  \\\n",
       "0          1559926  ENENQY24  02NQYM24   2017-07-27 00:01:00   \n",
       "1          1559927  ENERFI24  02TRFI24   2017-07-26 00:01:00   \n",
       "2          1559928  ENEREF24  02TREF24   2017-07-27 00:01:00   \n",
       "3          1559929  ENEREF24  02TREF24   2017-07-26 00:01:00   \n",
       "4          1559930  ENEREE24  02KCLI24   2017-07-27 00:01:00   \n",
       "\n",
       "    Fecha_Ejec_Inicio      Fecha_Ejec_Fin Duracion Promedio Agente Mxrc  \\\n",
       "0 2017-07-27 05:00:02 2017-07-27 05:13:13    13M10    14M00    NaN    1   \n",
       "1 2017-07-26 15:16:14 2017-07-26 15:16:20        6     1M00    NaN    0   \n",
       "2 2017-07-27 15:00:04 2017-07-27 15:00:06        2        -    NaN    0   \n",
       "3 2017-07-26 15:00:05 2017-07-26 15:00:07        2        -    NaN    0   \n",
       "4 2017-07-27 13:18:27 2017-07-27 13:18:29        2        -    NaN    0   \n",
       "\n",
       "  Maxcmpc      Grupo Force_Complete   CCF     Estado  \n",
       "0       1  SCHE01             NO     NO    ENDED      \n",
       "1       0  SCHE01             NO     NO    ENDED      \n",
       "2       0  SCHE01             NO     NO    ENDED      \n",
       "3       0  SCHE01             NO     NO    ENDED      \n",
       "4       0  SCHE01             NO     NO    ENDED      "
      ]
     },
     "execution_count": 90,
     "metadata": {},
     "output_type": "execute_result"
    }
   ],
   "source": [
    "csv.head()"
   ]
  },
  {
   "cell_type": "code",
   "execution_count": 91,
   "metadata": {},
   "outputs": [
    {
     "data": {
      "text/plain": [
       "(1000000, 15)"
      ]
     },
     "execution_count": 91,
     "metadata": {},
     "output_type": "execute_result"
    }
   ],
   "source": [
    "csv.shape"
   ]
  },
  {
   "cell_type": "code",
   "execution_count": 92,
   "metadata": {},
   "outputs": [
    {
     "data": {
      "text/plain": [
       "Index(['Id_HistoricoJob', 'Id_Job', 'Id_Malla', 'Fecha_Carga_Scheduler',\n",
       "       'Fecha_Ejec_Inicio', 'Fecha_Ejec_Fin', 'Duracion', 'Promedio', 'Agente',\n",
       "       'Mxrc', 'Maxcmpc', 'Grupo', 'Force_Complete', 'CCF', 'Estado'],\n",
       "      dtype='object')"
      ]
     },
     "execution_count": 92,
     "metadata": {},
     "output_type": "execute_result"
    }
   ],
   "source": [
    "csv.columns"
   ]
  },
  {
   "cell_type": "code",
   "execution_count": 93,
   "metadata": {},
   "outputs": [],
   "source": [
    "csv = csv.sort_values(['Fecha_Ejec_Inicio'])"
   ]
  },
  {
   "cell_type": "code",
   "execution_count": 94,
   "metadata": {},
   "outputs": [
    {
     "data": {
      "text/html": [
       "<div>\n",
       "<style scoped>\n",
       "    .dataframe tbody tr th:only-of-type {\n",
       "        vertical-align: middle;\n",
       "    }\n",
       "\n",
       "    .dataframe tbody tr th {\n",
       "        vertical-align: top;\n",
       "    }\n",
       "\n",
       "    .dataframe thead th {\n",
       "        text-align: right;\n",
       "    }\n",
       "</style>\n",
       "<table border=\"1\" class=\"dataframe\">\n",
       "  <thead>\n",
       "    <tr style=\"text-align: right;\">\n",
       "      <th></th>\n",
       "      <th></th>\n",
       "      <th>Id_HistoricoJob</th>\n",
       "      <th>Id_Job</th>\n",
       "      <th>Fecha_Carga_Scheduler</th>\n",
       "      <th>Fecha_Ejec_Fin</th>\n",
       "      <th>Duracion</th>\n",
       "      <th>Promedio</th>\n",
       "      <th>Agente</th>\n",
       "      <th>Mxrc</th>\n",
       "      <th>Maxcmpc</th>\n",
       "      <th>Grupo</th>\n",
       "      <th>Force_Complete</th>\n",
       "      <th>CCF</th>\n",
       "      <th>Estado</th>\n",
       "    </tr>\n",
       "    <tr>\n",
       "      <th>Fecha_Ejec_Inicio</th>\n",
       "      <th>Id_Malla</th>\n",
       "      <th></th>\n",
       "      <th></th>\n",
       "      <th></th>\n",
       "      <th></th>\n",
       "      <th></th>\n",
       "      <th></th>\n",
       "      <th></th>\n",
       "      <th></th>\n",
       "      <th></th>\n",
       "      <th></th>\n",
       "      <th></th>\n",
       "      <th></th>\n",
       "      <th></th>\n",
       "    </tr>\n",
       "  </thead>\n",
       "  <tbody>\n",
       "    <tr>\n",
       "      <th rowspan=\"2\" valign=\"top\">2017-07-26 14:55:02</th>\n",
       "      <th>T2DFFLH2</th>\n",
       "      <td>1</td>\n",
       "      <td>1</td>\n",
       "      <td>1</td>\n",
       "      <td>1</td>\n",
       "      <td>1</td>\n",
       "      <td>1</td>\n",
       "      <td>0</td>\n",
       "      <td>1</td>\n",
       "      <td>1</td>\n",
       "      <td>1</td>\n",
       "      <td>1</td>\n",
       "      <td>1</td>\n",
       "      <td>1</td>\n",
       "    </tr>\n",
       "    <tr>\n",
       "      <th>T2DKAIH2</th>\n",
       "      <td>2</td>\n",
       "      <td>2</td>\n",
       "      <td>2</td>\n",
       "      <td>2</td>\n",
       "      <td>2</td>\n",
       "      <td>2</td>\n",
       "      <td>0</td>\n",
       "      <td>2</td>\n",
       "      <td>2</td>\n",
       "      <td>2</td>\n",
       "      <td>2</td>\n",
       "      <td>2</td>\n",
       "      <td>2</td>\n",
       "    </tr>\n",
       "    <tr>\n",
       "      <th rowspan=\"3\" valign=\"top\">2017-07-26 14:55:03</th>\n",
       "      <th>T2DAEII2</th>\n",
       "      <td>1</td>\n",
       "      <td>1</td>\n",
       "      <td>1</td>\n",
       "      <td>1</td>\n",
       "      <td>1</td>\n",
       "      <td>1</td>\n",
       "      <td>0</td>\n",
       "      <td>1</td>\n",
       "      <td>1</td>\n",
       "      <td>1</td>\n",
       "      <td>1</td>\n",
       "      <td>1</td>\n",
       "      <td>1</td>\n",
       "    </tr>\n",
       "    <tr>\n",
       "      <th>T2DANVH4</th>\n",
       "      <td>3</td>\n",
       "      <td>3</td>\n",
       "      <td>3</td>\n",
       "      <td>3</td>\n",
       "      <td>3</td>\n",
       "      <td>3</td>\n",
       "      <td>0</td>\n",
       "      <td>3</td>\n",
       "      <td>3</td>\n",
       "      <td>3</td>\n",
       "      <td>3</td>\n",
       "      <td>3</td>\n",
       "      <td>3</td>\n",
       "    </tr>\n",
       "    <tr>\n",
       "      <th>T2DFCAI2</th>\n",
       "      <td>18</td>\n",
       "      <td>18</td>\n",
       "      <td>18</td>\n",
       "      <td>18</td>\n",
       "      <td>18</td>\n",
       "      <td>18</td>\n",
       "      <td>0</td>\n",
       "      <td>18</td>\n",
       "      <td>18</td>\n",
       "      <td>18</td>\n",
       "      <td>18</td>\n",
       "      <td>18</td>\n",
       "      <td>18</td>\n",
       "    </tr>\n",
       "  </tbody>\n",
       "</table>\n",
       "</div>"
      ],
      "text/plain": [
       "                              Id_HistoricoJob  Id_Job  Fecha_Carga_Scheduler  \\\n",
       "Fecha_Ejec_Inicio   Id_Malla                                                   \n",
       "2017-07-26 14:55:02 T2DFFLH2                1       1                      1   \n",
       "                    T2DKAIH2                2       2                      2   \n",
       "2017-07-26 14:55:03 T2DAEII2                1       1                      1   \n",
       "                    T2DANVH4                3       3                      3   \n",
       "                    T2DFCAI2               18      18                     18   \n",
       "\n",
       "                              Fecha_Ejec_Fin  Duracion  Promedio  Agente  \\\n",
       "Fecha_Ejec_Inicio   Id_Malla                                               \n",
       "2017-07-26 14:55:02 T2DFFLH2               1         1         1       0   \n",
       "                    T2DKAIH2               2         2         2       0   \n",
       "2017-07-26 14:55:03 T2DAEII2               1         1         1       0   \n",
       "                    T2DANVH4               3         3         3       0   \n",
       "                    T2DFCAI2              18        18        18       0   \n",
       "\n",
       "                              Mxrc  Maxcmpc  Grupo  Force_Complete  CCF  \\\n",
       "Fecha_Ejec_Inicio   Id_Malla                                              \n",
       "2017-07-26 14:55:02 T2DFFLH2     1        1      1               1    1   \n",
       "                    T2DKAIH2     2        2      2               2    2   \n",
       "2017-07-26 14:55:03 T2DAEII2     1        1      1               1    1   \n",
       "                    T2DANVH4     3        3      3               3    3   \n",
       "                    T2DFCAI2    18       18     18              18   18   \n",
       "\n",
       "                              Estado  \n",
       "Fecha_Ejec_Inicio   Id_Malla          \n",
       "2017-07-26 14:55:02 T2DFFLH2       1  \n",
       "                    T2DKAIH2       2  \n",
       "2017-07-26 14:55:03 T2DAEII2       1  \n",
       "                    T2DANVH4       3  \n",
       "                    T2DFCAI2      18  "
      ]
     },
     "execution_count": 94,
     "metadata": {},
     "output_type": "execute_result"
    }
   ],
   "source": [
    "# Some Ids don't have start date\n",
    "csv.groupby(['Fecha_Ejec_Inicio', 'Id_Malla']).count().head()"
   ]
  },
  {
   "cell_type": "code",
   "execution_count": 95,
   "metadata": {},
   "outputs": [
    {
     "data": {
      "text/plain": [
       "(11874   2017-07-26 14:55:00\n",
       " Name: Fecha_Carga_Scheduler, dtype: datetime64[ns],\n",
       " 989321   2017-09-14 00:01:00\n",
       " Name: Fecha_Carga_Scheduler, dtype: datetime64[ns])"
      ]
     },
     "execution_count": 95,
     "metadata": {},
     "output_type": "execute_result"
    }
   ],
   "source": [
    "csv.head(1).Fecha_Carga_Scheduler, csv.tail(1).Fecha_Carga_Scheduler"
   ]
  },
  {
   "cell_type": "code",
   "execution_count": 96,
   "metadata": {},
   "outputs": [
    {
     "data": {
      "text/plain": [
       "1000000"
      ]
     },
     "execution_count": 96,
     "metadata": {},
     "output_type": "execute_result"
    }
   ],
   "source": [
    "# Row id\n",
    "len(csv.Id_HistoricoJob.unique())"
   ]
  },
  {
   "cell_type": "code",
   "execution_count": 97,
   "metadata": {},
   "outputs": [
    {
     "data": {
      "text/plain": [
       "array(['BBSCHP   ', 'SCHE01   ', 'SCHDFLT  ', nan], dtype=object)"
      ]
     },
     "execution_count": 97,
     "metadata": {},
     "output_type": "execute_result"
    }
   ],
   "source": [
    "csv.Grupo.unique()"
   ]
  },
  {
   "cell_type": "code",
   "execution_count": 98,
   "metadata": {},
   "outputs": [
    {
     "data": {
      "text/html": [
       "<div>\n",
       "<style scoped>\n",
       "    .dataframe tbody tr th:only-of-type {\n",
       "        vertical-align: middle;\n",
       "    }\n",
       "\n",
       "    .dataframe tbody tr th {\n",
       "        vertical-align: top;\n",
       "    }\n",
       "\n",
       "    .dataframe thead th {\n",
       "        text-align: right;\n",
       "    }\n",
       "</style>\n",
       "<table border=\"1\" class=\"dataframe\">\n",
       "  <thead>\n",
       "    <tr style=\"text-align: right;\">\n",
       "      <th></th>\n",
       "      <th>Id_HistoricoJob</th>\n",
       "      <th>Id_Job</th>\n",
       "      <th>Id_Malla</th>\n",
       "      <th>Fecha_Carga_Scheduler</th>\n",
       "      <th>Fecha_Ejec_Inicio</th>\n",
       "      <th>Fecha_Ejec_Fin</th>\n",
       "      <th>Duracion</th>\n",
       "      <th>Promedio</th>\n",
       "      <th>Agente</th>\n",
       "      <th>Mxrc</th>\n",
       "      <th>Maxcmpc</th>\n",
       "      <th>Force_Complete</th>\n",
       "      <th>CCF</th>\n",
       "      <th>Estado</th>\n",
       "    </tr>\n",
       "    <tr>\n",
       "      <th>Grupo</th>\n",
       "      <th></th>\n",
       "      <th></th>\n",
       "      <th></th>\n",
       "      <th></th>\n",
       "      <th></th>\n",
       "      <th></th>\n",
       "      <th></th>\n",
       "      <th></th>\n",
       "      <th></th>\n",
       "      <th></th>\n",
       "      <th></th>\n",
       "      <th></th>\n",
       "      <th></th>\n",
       "      <th></th>\n",
       "    </tr>\n",
       "  </thead>\n",
       "  <tbody>\n",
       "    <tr>\n",
       "      <th>BBSCHP</th>\n",
       "      <td>74479</td>\n",
       "      <td>74479</td>\n",
       "      <td>74479</td>\n",
       "      <td>74479</td>\n",
       "      <td>74479</td>\n",
       "      <td>74432</td>\n",
       "      <td>74479</td>\n",
       "      <td>74479</td>\n",
       "      <td>1130</td>\n",
       "      <td>74479</td>\n",
       "      <td>74479</td>\n",
       "      <td>74479</td>\n",
       "      <td>74479</td>\n",
       "      <td>74479</td>\n",
       "    </tr>\n",
       "    <tr>\n",
       "      <th>SCHDFLT</th>\n",
       "      <td>98</td>\n",
       "      <td>98</td>\n",
       "      <td>98</td>\n",
       "      <td>98</td>\n",
       "      <td>98</td>\n",
       "      <td>98</td>\n",
       "      <td>98</td>\n",
       "      <td>98</td>\n",
       "      <td>0</td>\n",
       "      <td>98</td>\n",
       "      <td>98</td>\n",
       "      <td>98</td>\n",
       "      <td>98</td>\n",
       "      <td>98</td>\n",
       "    </tr>\n",
       "    <tr>\n",
       "      <th>SCHE01</th>\n",
       "      <td>915994</td>\n",
       "      <td>915994</td>\n",
       "      <td>915994</td>\n",
       "      <td>915994</td>\n",
       "      <td>915994</td>\n",
       "      <td>915859</td>\n",
       "      <td>915994</td>\n",
       "      <td>915994</td>\n",
       "      <td>470358</td>\n",
       "      <td>915994</td>\n",
       "      <td>915994</td>\n",
       "      <td>915994</td>\n",
       "      <td>915994</td>\n",
       "      <td>915994</td>\n",
       "    </tr>\n",
       "  </tbody>\n",
       "</table>\n",
       "</div>"
      ],
      "text/plain": [
       "           Id_HistoricoJob  Id_Job  Id_Malla  Fecha_Carga_Scheduler  \\\n",
       "Grupo                                                                 \n",
       "BBSCHP               74479   74479     74479                  74479   \n",
       "SCHDFLT                 98      98        98                     98   \n",
       "SCHE01              915994  915994    915994                 915994   \n",
       "\n",
       "           Fecha_Ejec_Inicio  Fecha_Ejec_Fin  Duracion  Promedio  Agente  \\\n",
       "Grupo                                                                      \n",
       "BBSCHP                 74479           74432     74479     74479    1130   \n",
       "SCHDFLT                   98              98        98        98       0   \n",
       "SCHE01                915994          915859    915994    915994  470358   \n",
       "\n",
       "             Mxrc  Maxcmpc  Force_Complete     CCF  Estado  \n",
       "Grupo                                                       \n",
       "BBSCHP      74479    74479           74479   74479   74479  \n",
       "SCHDFLT        98       98              98      98      98  \n",
       "SCHE01     915994   915994          915994  915994  915994  "
      ]
     },
     "execution_count": 98,
     "metadata": {},
     "output_type": "execute_result"
    }
   ],
   "source": [
    "csv.groupby(['Grupo']).count()"
   ]
  },
  {
   "cell_type": "code",
   "execution_count": 99,
   "metadata": {},
   "outputs": [],
   "source": [
    "csv['Duracion'] = csv['Duracion'].astype(str)\n",
    "csv['Promedio'] = csv['Promedio'].astype(str)\n",
    "csv['Fecha_Ejec_Inicio'] = csv['Fecha_Ejec_Inicio'].astype(str)\n",
    "csv['Fecha_Ejec_Fin'] = csv['Fecha_Ejec_Fin'].astype(str)\n",
    "csv['Fecha_Carga_Scheduler'] = csv['Fecha_Carga_Scheduler'].astype(str)"
   ]
  },
  {
   "cell_type": "code",
   "execution_count": 100,
   "metadata": {
    "collapsed": true
   },
   "outputs": [
    {
     "name": "stdout",
     "output_type": "stream",
     "text": [
      "CPU times: user 25.6 s, sys: 172 ms, total: 25.8 s\n",
      "Wall time: 25.8 s\n"
     ]
    }
   ],
   "source": [
    "%%time\n",
    "csv['duracion_int'] = csv.apply(lambda row: convertInt(row, 'Duracion'), axis=1) "
   ]
  },
  {
   "cell_type": "code",
   "execution_count": null,
   "metadata": {
    "collapsed": true
   },
   "outputs": [
    {
     "name": "stdout",
     "output_type": "stream",
     "text": [
      "CPU times: user 21.7 s, sys: 132 ms, total: 21.8 s\n",
      "Wall time: 21.8 s\n"
     ]
    }
   ],
   "source": [
    "%%time\n",
    "csv['promedio_int'] = csv.apply(lambda row: convertInt(row, 'Promedio'), axis=1) "
   ]
  },
  {
   "cell_type": "code",
   "execution_count": null,
   "metadata": {},
   "outputs": [],
   "source": [
    "%%time\n",
    "csv[['Fecha_Ejec_Inicio_Int', 'Hora_Ejec_Inicio_Int']] = csv.apply(lambda row: convertDate(row, 'Fecha_Ejec_Inicio'), axis=1)"
   ]
  },
  {
   "cell_type": "code",
   "execution_count": null,
   "metadata": {},
   "outputs": [],
   "source": [
    "%%time\n",
    "csv[['Fecha_Ejec_Fin_Int', 'Hora_Ejec_Fin_Int']] = csv.apply(lambda row: convertDate(row, 'Fecha_Ejec_Fin'), axis=1)"
   ]
  },
  {
   "cell_type": "code",
   "execution_count": null,
   "metadata": {},
   "outputs": [],
   "source": [
    "csv.drop(['Id_HistoricoJob', 'Duracion', 'Promedio'], axis=1, inplace=True)"
   ]
  },
  {
   "cell_type": "code",
   "execution_count": null,
   "metadata": {},
   "outputs": [],
   "source": [
    "csv.reset_index(drop=True, inplace=True)\n",
    "csv.head()"
   ]
  },
  {
   "cell_type": "code",
   "execution_count": null,
   "metadata": {},
   "outputs": [],
   "source": [
    "# Percentage of nulls \n",
    "csv.isnull().sum()"
   ]
  },
  {
   "cell_type": "code",
   "execution_count": null,
   "metadata": {},
   "outputs": [],
   "source": [
    "# Percentage of nulls \n",
    "100 * csv.isnull().sum() / csv.count().max()"
   ]
  },
  {
   "cell_type": "code",
   "execution_count": null,
   "metadata": {},
   "outputs": [],
   "source": [
    "csv.groupby(['Id_Job', 'Id_Malla']).count()"
   ]
  },
  {
   "cell_type": "code",
   "execution_count": null,
   "metadata": {},
   "outputs": [],
   "source": [
    "csv.dtypes"
   ]
  },
  {
   "cell_type": "code",
   "execution_count": null,
   "metadata": {},
   "outputs": [],
   "source": [
    "csv.to_csv(PROCESSED/'HistoricoJob02.csv', index=False)"
   ]
  },
  {
   "cell_type": "code",
   "execution_count": 70,
   "metadata": {
    "collapsed": true
   },
   "outputs": [],
   "source": [
    "cat_columns = ['Agente', 'Mxrc', 'Maxcmpc', 'Grupo', 'Force_Complete', 'CCF', 'Estado']\n",
    "id_columns = ['Id_Job', 'Id_Malla']\n",
    "for column in cat_columns:\n",
    "    csv[column] = csv[column].astype('category').cat.codes"
   ]
  },
  {
   "cell_type": "code",
   "execution_count": 71,
   "metadata": {},
   "outputs": [
    {
     "data": {
      "text/html": [
       "<div>\n",
       "<style scoped>\n",
       "    .dataframe tbody tr th:only-of-type {\n",
       "        vertical-align: middle;\n",
       "    }\n",
       "\n",
       "    .dataframe tbody tr th {\n",
       "        vertical-align: top;\n",
       "    }\n",
       "\n",
       "    .dataframe thead th {\n",
       "        text-align: right;\n",
       "    }\n",
       "</style>\n",
       "<table border=\"1\" class=\"dataframe\">\n",
       "  <thead>\n",
       "    <tr style=\"text-align: right;\">\n",
       "      <th></th>\n",
       "      <th>Id_Job</th>\n",
       "      <th>Id_Malla</th>\n",
       "      <th>Fecha_Carga_Scheduler</th>\n",
       "      <th>Fecha_Ejec_Inicio</th>\n",
       "      <th>Fecha_Ejec_Fin</th>\n",
       "      <th>Agente</th>\n",
       "      <th>Mxrc</th>\n",
       "      <th>Maxcmpc</th>\n",
       "      <th>Grupo</th>\n",
       "      <th>Force_Complete</th>\n",
       "      <th>CCF</th>\n",
       "      <th>Estado</th>\n",
       "      <th>duracion_int</th>\n",
       "      <th>promedio_int</th>\n",
       "      <th>Fecha_Ejec_Inicio_Int</th>\n",
       "      <th>Hora_Ejec_Inicio_Int</th>\n",
       "      <th>Fecha_Ejec_Fin_Int</th>\n",
       "      <th>Hora_Ejec_Fin_Int</th>\n",
       "    </tr>\n",
       "  </thead>\n",
       "  <tbody>\n",
       "    <tr>\n",
       "      <th>0</th>\n",
       "      <td>JD2VN539</td>\n",
       "      <td>T2DFFLH2</td>\n",
       "      <td>2017-07-26 14:55:00</td>\n",
       "      <td>2017-07-26 14:55:02</td>\n",
       "      <td>2017-07-27 00:12:48</td>\n",
       "      <td>-1</td>\n",
       "      <td>0</td>\n",
       "      <td>0</td>\n",
       "      <td>0</td>\n",
       "      <td>1</td>\n",
       "      <td>0</td>\n",
       "      <td>0</td>\n",
       "      <td>33420.0</td>\n",
       "      <td>34260.0</td>\n",
       "      <td>20170726.0</td>\n",
       "      <td>53702.0</td>\n",
       "      <td>20170727.0</td>\n",
       "      <td>768.0</td>\n",
       "    </tr>\n",
       "    <tr>\n",
       "      <th>1</th>\n",
       "      <td>JD5BA914</td>\n",
       "      <td>T2DKAIH2</td>\n",
       "      <td>2017-07-26 14:55:00</td>\n",
       "      <td>2017-07-26 14:55:02</td>\n",
       "      <td>2017-07-27 13:00:04</td>\n",
       "      <td>-1</td>\n",
       "      <td>0</td>\n",
       "      <td>0</td>\n",
       "      <td>0</td>\n",
       "      <td>1</td>\n",
       "      <td>0</td>\n",
       "      <td>0</td>\n",
       "      <td>79500.0</td>\n",
       "      <td>95760.0</td>\n",
       "      <td>20170726.0</td>\n",
       "      <td>53702.0</td>\n",
       "      <td>20170727.0</td>\n",
       "      <td>46804.0</td>\n",
       "    </tr>\n",
       "    <tr>\n",
       "      <th>2</th>\n",
       "      <td>JD5BA932</td>\n",
       "      <td>T2DKAIH2</td>\n",
       "      <td>2017-07-26 14:55:00</td>\n",
       "      <td>2017-07-26 14:55:02</td>\n",
       "      <td>2017-07-27 13:00:04</td>\n",
       "      <td>-1</td>\n",
       "      <td>0</td>\n",
       "      <td>0</td>\n",
       "      <td>0</td>\n",
       "      <td>1</td>\n",
       "      <td>0</td>\n",
       "      <td>0</td>\n",
       "      <td>79500.0</td>\n",
       "      <td>95760.0</td>\n",
       "      <td>20170726.0</td>\n",
       "      <td>53702.0</td>\n",
       "      <td>20170727.0</td>\n",
       "      <td>46804.0</td>\n",
       "    </tr>\n",
       "    <tr>\n",
       "      <th>3</th>\n",
       "      <td>JD5FN2D9</td>\n",
       "      <td>T2DFCAI2</td>\n",
       "      <td>2017-07-26 14:55:00</td>\n",
       "      <td>2017-07-26 14:55:03</td>\n",
       "      <td>2017-07-27 13:00:04</td>\n",
       "      <td>-1</td>\n",
       "      <td>0</td>\n",
       "      <td>0</td>\n",
       "      <td>0</td>\n",
       "      <td>1</td>\n",
       "      <td>0</td>\n",
       "      <td>0</td>\n",
       "      <td>79500.0</td>\n",
       "      <td>79500.0</td>\n",
       "      <td>20170726.0</td>\n",
       "      <td>53703.0</td>\n",
       "      <td>20170727.0</td>\n",
       "      <td>46804.0</td>\n",
       "    </tr>\n",
       "    <tr>\n",
       "      <th>4</th>\n",
       "      <td>JD5FNV22</td>\n",
       "      <td>T2DFCAI2</td>\n",
       "      <td>2017-07-26 14:55:00</td>\n",
       "      <td>2017-07-26 14:55:03</td>\n",
       "      <td>2017-07-27 13:00:03</td>\n",
       "      <td>-1</td>\n",
       "      <td>0</td>\n",
       "      <td>0</td>\n",
       "      <td>0</td>\n",
       "      <td>1</td>\n",
       "      <td>0</td>\n",
       "      <td>0</td>\n",
       "      <td>79440.0</td>\n",
       "      <td>95760.0</td>\n",
       "      <td>20170726.0</td>\n",
       "      <td>53703.0</td>\n",
       "      <td>20170727.0</td>\n",
       "      <td>46803.0</td>\n",
       "    </tr>\n",
       "  </tbody>\n",
       "</table>\n",
       "</div>"
      ],
      "text/plain": [
       "     Id_Job  Id_Malla Fecha_Carga_Scheduler    Fecha_Ejec_Inicio  \\\n",
       "0  JD2VN539  T2DFFLH2   2017-07-26 14:55:00  2017-07-26 14:55:02   \n",
       "1  JD5BA914  T2DKAIH2   2017-07-26 14:55:00  2017-07-26 14:55:02   \n",
       "2  JD5BA932  T2DKAIH2   2017-07-26 14:55:00  2017-07-26 14:55:02   \n",
       "3  JD5FN2D9  T2DFCAI2   2017-07-26 14:55:00  2017-07-26 14:55:03   \n",
       "4  JD5FNV22  T2DFCAI2   2017-07-26 14:55:00  2017-07-26 14:55:03   \n",
       "\n",
       "        Fecha_Ejec_Fin  Agente  Mxrc  Maxcmpc  Grupo  Force_Complete  CCF  \\\n",
       "0  2017-07-27 00:12:48      -1     0        0      0               1    0   \n",
       "1  2017-07-27 13:00:04      -1     0        0      0               1    0   \n",
       "2  2017-07-27 13:00:04      -1     0        0      0               1    0   \n",
       "3  2017-07-27 13:00:04      -1     0        0      0               1    0   \n",
       "4  2017-07-27 13:00:03      -1     0        0      0               1    0   \n",
       "\n",
       "   Estado  duracion_int  promedio_int  Fecha_Ejec_Inicio_Int  \\\n",
       "0       0       33420.0       34260.0             20170726.0   \n",
       "1       0       79500.0       95760.0             20170726.0   \n",
       "2       0       79500.0       95760.0             20170726.0   \n",
       "3       0       79500.0       79500.0             20170726.0   \n",
       "4       0       79440.0       95760.0             20170726.0   \n",
       "\n",
       "   Hora_Ejec_Inicio_Int  Fecha_Ejec_Fin_Int  Hora_Ejec_Fin_Int  \n",
       "0               53702.0          20170727.0              768.0  \n",
       "1               53702.0          20170727.0            46804.0  \n",
       "2               53702.0          20170727.0            46804.0  \n",
       "3               53703.0          20170727.0            46804.0  \n",
       "4               53703.0          20170727.0            46803.0  "
      ]
     },
     "execution_count": 71,
     "metadata": {},
     "output_type": "execute_result"
    }
   ],
   "source": [
    "csv.head()"
   ]
  },
  {
   "cell_type": "code",
   "execution_count": 128,
   "metadata": {},
   "outputs": [
    {
     "name": "stdout",
     "output_type": "stream",
     "text": [
      "(51, 18)\n"
     ]
    },
    {
     "data": {
      "text/plain": [
       "<matplotlib.axes._subplots.AxesSubplot at 0x7f71de98f6d8>"
      ]
     },
     "execution_count": 128,
     "metadata": {},
     "output_type": "execute_result"
    },
    {
     "data": {
      "image/png": "[encoded data removed]",
      "text/plain": [
       "<matplotlib.figure.Figure at 0x7f71de98df28>"
      ]
     },
     "metadata": {},
     "output_type": "display_data"
    }
   ],
   "source": [
    "print(csv.groupby('Fecha_Ejec_Inicio_Int').count().reset_index().shape)\n",
    "csv.groupby('Fecha_Ejec_Inicio_Int').count().reset_index().Id_Job.plot(figsize=(25,10))"
   ]
  },
  {
   "cell_type": "code",
   "execution_count": null,
   "metadata": {},
   "outputs": [],
   "source": [
    "#"
   ]
  },
  {
   "cell_type": "code",
   "execution_count": 19,
   "metadata": {
    "collapsed": true
   },
   "outputs": [],
   "source": [
    "from sklearn.preprocessing import StandardScaler\n",
    "# Scaling data over ordinal variables\n",
    "\n",
    "sc = StandardScaler()\n",
    "csv[['duracion_int', 'promedio_int']] = sc.fit_transform(csv[['duracion_int', 'promedio_int']])"
   ]
  },
  {
   "cell_type": "code",
   "execution_count": 20,
   "metadata": {},
   "outputs": [
    {
     "data": {
      "text/html": [
       "<div>\n",
       "<style>\n",
       "    .dataframe thead tr:only-child th {\n",
       "        text-align: right;\n",
       "    }\n",
       "\n",
       "    .dataframe thead th {\n",
       "        text-align: left;\n",
       "    }\n",
       "\n",
       "    .dataframe tbody tr th {\n",
       "        vertical-align: top;\n",
       "    }\n",
       "</style>\n",
       "<table border=\"1\" class=\"dataframe\">\n",
       "  <thead>\n",
       "    <tr style=\"text-align: right;\">\n",
       "      <th></th>\n",
       "      <th>DiaSemanaEjecProgramada</th>\n",
       "      <th>TipoAgente</th>\n",
       "      <th>DiaSemanaEjecInicio</th>\n",
       "      <th>Force_Complete</th>\n",
       "      <th>Estado</th>\n",
       "      <th>EjecucionFeriado</th>\n",
       "      <th>duracion_int</th>\n",
       "      <th>promedio_int</th>\n",
       "    </tr>\n",
       "  </thead>\n",
       "  <tbody>\n",
       "    <tr>\n",
       "      <th>0</th>\n",
       "      <td>1</td>\n",
       "      <td>1</td>\n",
       "      <td>1</td>\n",
       "      <td>1</td>\n",
       "      <td>0</td>\n",
       "      <td>0</td>\n",
       "      <td>2.974465</td>\n",
       "      <td>-0.28525</td>\n",
       "    </tr>\n",
       "    <tr>\n",
       "      <th>1</th>\n",
       "      <td>1</td>\n",
       "      <td>1</td>\n",
       "      <td>1</td>\n",
       "      <td>0</td>\n",
       "      <td>0</td>\n",
       "      <td>0</td>\n",
       "      <td>-0.228048</td>\n",
       "      <td>-0.28525</td>\n",
       "    </tr>\n",
       "    <tr>\n",
       "      <th>2</th>\n",
       "      <td>1</td>\n",
       "      <td>1</td>\n",
       "      <td>1</td>\n",
       "      <td>0</td>\n",
       "      <td>0</td>\n",
       "      <td>0</td>\n",
       "      <td>-0.133856</td>\n",
       "      <td>-0.28525</td>\n",
       "    </tr>\n",
       "    <tr>\n",
       "      <th>3</th>\n",
       "      <td>1</td>\n",
       "      <td>1</td>\n",
       "      <td>1</td>\n",
       "      <td>0</td>\n",
       "      <td>0</td>\n",
       "      <td>0</td>\n",
       "      <td>-0.329131</td>\n",
       "      <td>-0.28525</td>\n",
       "    </tr>\n",
       "    <tr>\n",
       "      <th>4</th>\n",
       "      <td>1</td>\n",
       "      <td>1</td>\n",
       "      <td>1</td>\n",
       "      <td>0</td>\n",
       "      <td>0</td>\n",
       "      <td>0</td>\n",
       "      <td>-0.276292</td>\n",
       "      <td>-0.28525</td>\n",
       "    </tr>\n",
       "  </tbody>\n",
       "</table>\n",
       "</div>"
      ],
      "text/plain": [
       "   DiaSemanaEjecProgramada  TipoAgente  DiaSemanaEjecInicio  Force_Complete  \\\n",
       "0                        1           1                    1               1   \n",
       "1                        1           1                    1               0   \n",
       "2                        1           1                    1               0   \n",
       "3                        1           1                    1               0   \n",
       "4                        1           1                    1               0   \n",
       "\n",
       "   Estado  EjecucionFeriado  duracion_int  promedio_int  \n",
       "0       0                 0      2.974465      -0.28525  \n",
       "1       0                 0     -0.228048      -0.28525  \n",
       "2       0                 0     -0.133856      -0.28525  \n",
       "3       0                 0     -0.329131      -0.28525  \n",
       "4       0                 0     -0.276292      -0.28525  "
      ]
     },
     "execution_count": 20,
     "metadata": {},
     "output_type": "execute_result"
    }
   ],
   "source": [
    "csv.head()"
   ]
  },
  {
   "cell_type": "code",
   "execution_count": 26,
   "metadata": {
    "collapsed": true
   },
   "outputs": [],
   "source": [
    "# Saving csv\n",
    "csv.to_csv('processed_data.csv')"
   ]
  },
  {
   "cell_type": "code",
   "execution_count": 25,
   "metadata": {},
   "outputs": [
    {
     "data": {
      "text/plain": [
       "<matplotlib.axes._subplots.AxesSubplot at 0x7fc25772d1d0>"
      ]
     },
     "execution_count": 25,
     "metadata": {},
     "output_type": "execute_result"
    },
    {
     "data": {
      "image/png": "[encoded data removed]",
      "text/plain": [
       "<matplotlib.figure.Figure at 0x7fc257bebbe0>"
      ]
     },
     "metadata": {},
     "output_type": "display_data"
    }
   ],
   "source": [
    "import seaborn as sns\n",
    "corr = csv.corr()\n",
    "sns.heatmap(corr, \n",
    "            xticklabels=corr.columns.values,\n",
    "            yticklabels=corr.columns.values)"
   ]
  }
 ],
 "metadata": {
  "kernelspec": {
   "display_name": "Python 3",
   "language": "python",
   "name": "python3"
  },
  "language_info": {
   "codemirror_mode": {
    "name": "ipython",
    "version": 3
   },
   "file_extension": ".py",
   "mimetype": "text/x-python",
   "name": "python",
   "nbconvert_exporter": "python",
   "pygments_lexer": "ipython3",
   "version": "3.6.4"
  }
 },
 "nbformat": 4,
 "nbformat_minor": 2
}
