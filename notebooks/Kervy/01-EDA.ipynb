{
 "cells": [
  {
   "cell_type": "code",
   "execution_count": 5,
   "metadata": {
    "collapsed": true
   },
   "outputs": [],
   "source": [
    "import os, math\n",
    "import pandas as pd\n",
    "import matplotlib.pyplot as plt\n",
    "import numpy as np\n",
    "from pandas_summary import DataFrameSummary\n",
    "from pathlib import Path\n",
    "import seaborn as sns\n",
    "\n",
    "sns.set()\n",
    "os.chdir('/home/krivas/projects/analysis-project/')\n",
    "from src.utils import convert_int, convert_date\n",
    "\n",
    "%matplotlib inline"
   ]
  },
  {
   "cell_type": "code",
   "execution_count": 6,
   "metadata": {},
   "outputs": [],
   "source": [
    "DATA        = Path('data')\n",
    "RAW         = DATA/'raw'\n",
    "PROCESSED   = DATA/'processed'"
   ]
  },
  {
   "cell_type": "markdown",
   "metadata": {},
   "source": [
    "# Leyendo data"
   ]
  },
  {
   "cell_type": "code",
   "execution_count": 7,
   "metadata": {
    "collapsed": true
   },
   "outputs": [
    {
     "name": "stdout",
     "output_type": "stream",
     "text": [
      "CPU times: user 4min 23s, sys: 1.3 s, total: 4min 24s\n",
      "Wall time: 4min 24s\n"
     ]
    }
   ],
   "source": [
    "%%time\n",
    "csv = pd.read_excel(RAW/'HistoricoJob05.csv.xlsx')\n",
    "for count in range(6, 8):\n",
    "    csv = pd.concat([csv, pd.read_excel(RAW/f'HistoricoJob0{count}.csv.xlsx')])"
   ]
  },
  {
   "cell_type": "code",
   "execution_count": 8,
   "metadata": {},
   "outputs": [
    {
     "data": {
      "text/html": [
       "<div>\n",
       "<style scoped>\n",
       "    .dataframe tbody tr th:only-of-type {\n",
       "        vertical-align: middle;\n",
       "    }\n",
       "\n",
       "    .dataframe tbody tr th {\n",
       "        vertical-align: top;\n",
       "    }\n",
       "\n",
       "    .dataframe thead th {\n",
       "        text-align: right;\n",
       "    }\n",
       "</style>\n",
       "<table border=\"1\" class=\"dataframe\">\n",
       "  <thead>\n",
       "    <tr style=\"text-align: right;\">\n",
       "      <th></th>\n",
       "      <th>Id_HistoricoJob</th>\n",
       "      <th>Id_Job</th>\n",
       "      <th>Id_Malla</th>\n",
       "      <th>Fecha_Carga_Scheduler</th>\n",
       "      <th>Fecha_Ejec_Inicio</th>\n",
       "      <th>Fecha_Ejec_Fin</th>\n",
       "      <th>Duracion</th>\n",
       "      <th>Promedio</th>\n",
       "      <th>Agente</th>\n",
       "      <th>Mxrc</th>\n",
       "      <th>Maxcmpc</th>\n",
       "      <th>Grupo</th>\n",
       "      <th>Force_Complete</th>\n",
       "      <th>CCF</th>\n",
       "      <th>Estado</th>\n",
       "    </tr>\n",
       "  </thead>\n",
       "  <tbody>\n",
       "    <tr>\n",
       "      <th>0</th>\n",
       "      <td>4559926</td>\n",
       "      <td>@E2SM299</td>\n",
       "      <td>02SM299F</td>\n",
       "      <td>2017-12-16 22:40:00</td>\n",
       "      <td>2017-12-16 22:40:00</td>\n",
       "      <td>2017-12-16 22:40:02</td>\n",
       "      <td>2</td>\n",
       "      <td>1M00</td>\n",
       "      <td>PNBYQTBNE92</td>\n",
       "      <td>0</td>\n",
       "      <td>0</td>\n",
       "      <td>SCHE01</td>\n",
       "      <td>NO</td>\n",
       "      <td>NO</td>\n",
       "      <td>COMPLETE</td>\n",
       "    </tr>\n",
       "    <tr>\n",
       "      <th>1</th>\n",
       "      <td>4559927</td>\n",
       "      <td>@E2SM299</td>\n",
       "      <td>02SM299F</td>\n",
       "      <td>2017-12-16 22:20:00</td>\n",
       "      <td>2017-12-16 22:20:00</td>\n",
       "      <td>2017-12-16 22:20:02</td>\n",
       "      <td>2</td>\n",
       "      <td>-</td>\n",
       "      <td>PNBYQTBNE92</td>\n",
       "      <td>0</td>\n",
       "      <td>0</td>\n",
       "      <td>SCHE01</td>\n",
       "      <td>NO</td>\n",
       "      <td>NO</td>\n",
       "      <td>COMPLETE</td>\n",
       "    </tr>\n",
       "    <tr>\n",
       "      <th>2</th>\n",
       "      <td>4559928</td>\n",
       "      <td>@E2SM299</td>\n",
       "      <td>02SM299F</td>\n",
       "      <td>2017-12-16 22:00:00</td>\n",
       "      <td>2017-12-16 22:00:01</td>\n",
       "      <td>2017-12-16 22:00:05</td>\n",
       "      <td>4</td>\n",
       "      <td>-</td>\n",
       "      <td>PNBYQTBNE92</td>\n",
       "      <td>0</td>\n",
       "      <td>0</td>\n",
       "      <td>SCHE01</td>\n",
       "      <td>NO</td>\n",
       "      <td>NO</td>\n",
       "      <td>COMPLETE</td>\n",
       "    </tr>\n",
       "    <tr>\n",
       "      <th>3</th>\n",
       "      <td>4559929</td>\n",
       "      <td>@E2SM299</td>\n",
       "      <td>02SM299F</td>\n",
       "      <td>2017-12-16 21:40:00</td>\n",
       "      <td>2017-12-16 21:40:00</td>\n",
       "      <td>2017-12-16 21:40:02</td>\n",
       "      <td>2</td>\n",
       "      <td>1M00</td>\n",
       "      <td>PNBYQTBNE92</td>\n",
       "      <td>0</td>\n",
       "      <td>0</td>\n",
       "      <td>SCHE01</td>\n",
       "      <td>NO</td>\n",
       "      <td>NO</td>\n",
       "      <td>COMPLETE</td>\n",
       "    </tr>\n",
       "    <tr>\n",
       "      <th>4</th>\n",
       "      <td>4559930</td>\n",
       "      <td>@E2SM299</td>\n",
       "      <td>02SM299F</td>\n",
       "      <td>2017-12-16 21:20:00</td>\n",
       "      <td>2017-12-16 21:20:00</td>\n",
       "      <td>2017-12-16 21:20:04</td>\n",
       "      <td>4</td>\n",
       "      <td>-</td>\n",
       "      <td>PNBYQTBNE92</td>\n",
       "      <td>0</td>\n",
       "      <td>0</td>\n",
       "      <td>SCHE01</td>\n",
       "      <td>NO</td>\n",
       "      <td>NO</td>\n",
       "      <td>COMPLETE</td>\n",
       "    </tr>\n",
       "  </tbody>\n",
       "</table>\n",
       "</div>"
      ],
      "text/plain": [
       "   Id_HistoricoJob    Id_Job  Id_Malla Fecha_Carga_Scheduler  \\\n",
       "0          4559926  @E2SM299  02SM299F   2017-12-16 22:40:00   \n",
       "1          4559927  @E2SM299  02SM299F   2017-12-16 22:20:00   \n",
       "2          4559928  @E2SM299  02SM299F   2017-12-16 22:00:00   \n",
       "3          4559929  @E2SM299  02SM299F   2017-12-16 21:40:00   \n",
       "4          4559930  @E2SM299  02SM299F   2017-12-16 21:20:00   \n",
       "\n",
       "    Fecha_Ejec_Inicio      Fecha_Ejec_Fin Duracion Promedio        Agente  \\\n",
       "0 2017-12-16 22:40:00 2017-12-16 22:40:02        2     1M00  PNBYQTBNE92    \n",
       "1 2017-12-16 22:20:00 2017-12-16 22:20:02        2        -  PNBYQTBNE92    \n",
       "2 2017-12-16 22:00:01 2017-12-16 22:00:05        4        -  PNBYQTBNE92    \n",
       "3 2017-12-16 21:40:00 2017-12-16 21:40:02        2     1M00  PNBYQTBNE92    \n",
       "4 2017-12-16 21:20:00 2017-12-16 21:20:04        4        -  PNBYQTBNE92    \n",
       "\n",
       "  Mxrc Maxcmpc      Grupo Force_Complete   CCF     Estado  \n",
       "0    0       0  SCHE01             NO     NO    COMPLETE   \n",
       "1    0       0  SCHE01             NO     NO    COMPLETE   \n",
       "2    0       0  SCHE01             NO     NO    COMPLETE   \n",
       "3    0       0  SCHE01             NO     NO    COMPLETE   \n",
       "4    0       0  SCHE01             NO     NO    COMPLETE   "
      ]
     },
     "execution_count": 8,
     "metadata": {},
     "output_type": "execute_result"
    }
   ],
   "source": [
    "csv.head()"
   ]
  },
  {
   "cell_type": "code",
   "execution_count": 9,
   "metadata": {},
   "outputs": [
    {
     "data": {
      "text/plain": [
       "(3000000, 15)"
      ]
     },
     "execution_count": 9,
     "metadata": {},
     "output_type": "execute_result"
    }
   ],
   "source": [
    "csv.shape"
   ]
  },
  {
   "cell_type": "code",
   "execution_count": 10,
   "metadata": {},
   "outputs": [
    {
     "data": {
      "text/plain": [
       "Index(['Id_HistoricoJob', 'Id_Job', 'Id_Malla', 'Fecha_Carga_Scheduler',\n",
       "       'Fecha_Ejec_Inicio', 'Fecha_Ejec_Fin', 'Duracion', 'Promedio', 'Agente',\n",
       "       'Mxrc', 'Maxcmpc', 'Grupo', 'Force_Complete', 'CCF', 'Estado'],\n",
       "      dtype='object')"
      ]
     },
     "execution_count": 10,
     "metadata": {},
     "output_type": "execute_result"
    }
   ],
   "source": [
    "csv.columns"
   ]
  },
  {
   "cell_type": "markdown",
   "metadata": {},
   "source": [
    "# Generalidades"
   ]
  },
  {
   "cell_type": "markdown",
   "metadata": {},
   "source": [
    "- Se verificara que las mallas tengan una fecha de inicio"
   ]
  },
  {
   "cell_type": "code",
   "execution_count": 58,
   "metadata": {},
   "outputs": [],
   "source": [
    "csv = csv.sort_values(['Fecha_Ejec_Inicio'])"
   ]
  },
  {
   "cell_type": "code",
   "execution_count": 59,
   "metadata": {},
   "outputs": [
    {
     "data": {
      "text/html": [
       "<div>\n",
       "<style scoped>\n",
       "    .dataframe tbody tr th:only-of-type {\n",
       "        vertical-align: middle;\n",
       "    }\n",
       "\n",
       "    .dataframe tbody tr th {\n",
       "        vertical-align: top;\n",
       "    }\n",
       "\n",
       "    .dataframe thead th {\n",
       "        text-align: right;\n",
       "    }\n",
       "</style>\n",
       "<table border=\"1\" class=\"dataframe\">\n",
       "  <thead>\n",
       "    <tr style=\"text-align: right;\">\n",
       "      <th></th>\n",
       "      <th></th>\n",
       "      <th>Id_HistoricoJob</th>\n",
       "      <th>Id_Job</th>\n",
       "      <th>Fecha_Carga_Scheduler</th>\n",
       "      <th>Fecha_Ejec_Fin</th>\n",
       "      <th>Duracion</th>\n",
       "      <th>Promedio</th>\n",
       "      <th>Agente</th>\n",
       "      <th>Mxrc</th>\n",
       "      <th>Maxcmpc</th>\n",
       "      <th>Grupo</th>\n",
       "      <th>Force_Complete</th>\n",
       "      <th>CCF</th>\n",
       "      <th>Estado</th>\n",
       "    </tr>\n",
       "    <tr>\n",
       "      <th>Fecha_Ejec_Inicio</th>\n",
       "      <th>Id_Malla</th>\n",
       "      <th></th>\n",
       "      <th></th>\n",
       "      <th></th>\n",
       "      <th></th>\n",
       "      <th></th>\n",
       "      <th></th>\n",
       "      <th></th>\n",
       "      <th></th>\n",
       "      <th></th>\n",
       "      <th></th>\n",
       "      <th></th>\n",
       "      <th></th>\n",
       "      <th></th>\n",
       "    </tr>\n",
       "  </thead>\n",
       "  <tbody>\n",
       "    <tr>\n",
       "      <th>2017-12-15 14:55:01</th>\n",
       "      <th>T2DKAIH2</th>\n",
       "      <td>2</td>\n",
       "      <td>2</td>\n",
       "      <td>2</td>\n",
       "      <td>2</td>\n",
       "      <td>2</td>\n",
       "      <td>2</td>\n",
       "      <td>0</td>\n",
       "      <td>2</td>\n",
       "      <td>2</td>\n",
       "      <td>2</td>\n",
       "      <td>2</td>\n",
       "      <td>2</td>\n",
       "      <td>2</td>\n",
       "    </tr>\n",
       "    <tr>\n",
       "      <th>2017-12-15 14:55:02</th>\n",
       "      <th>T2DFCAI2</th>\n",
       "      <td>18</td>\n",
       "      <td>18</td>\n",
       "      <td>18</td>\n",
       "      <td>18</td>\n",
       "      <td>18</td>\n",
       "      <td>18</td>\n",
       "      <td>0</td>\n",
       "      <td>18</td>\n",
       "      <td>18</td>\n",
       "      <td>18</td>\n",
       "      <td>18</td>\n",
       "      <td>18</td>\n",
       "      <td>18</td>\n",
       "    </tr>\n",
       "    <tr>\n",
       "      <th rowspan=\"3\" valign=\"top\">2017-12-15 14:55:03</th>\n",
       "      <th>02DNIHH2</th>\n",
       "      <td>1</td>\n",
       "      <td>1</td>\n",
       "      <td>1</td>\n",
       "      <td>1</td>\n",
       "      <td>1</td>\n",
       "      <td>1</td>\n",
       "      <td>0</td>\n",
       "      <td>1</td>\n",
       "      <td>1</td>\n",
       "      <td>1</td>\n",
       "      <td>1</td>\n",
       "      <td>1</td>\n",
       "      <td>1</td>\n",
       "    </tr>\n",
       "    <tr>\n",
       "      <th>T0EKH993</th>\n",
       "      <td>1</td>\n",
       "      <td>1</td>\n",
       "      <td>1</td>\n",
       "      <td>1</td>\n",
       "      <td>1</td>\n",
       "      <td>1</td>\n",
       "      <td>0</td>\n",
       "      <td>1</td>\n",
       "      <td>1</td>\n",
       "      <td>1</td>\n",
       "      <td>1</td>\n",
       "      <td>1</td>\n",
       "      <td>1</td>\n",
       "    </tr>\n",
       "    <tr>\n",
       "      <th>T2DAEII2</th>\n",
       "      <td>1</td>\n",
       "      <td>1</td>\n",
       "      <td>1</td>\n",
       "      <td>1</td>\n",
       "      <td>1</td>\n",
       "      <td>1</td>\n",
       "      <td>0</td>\n",
       "      <td>1</td>\n",
       "      <td>1</td>\n",
       "      <td>1</td>\n",
       "      <td>1</td>\n",
       "      <td>1</td>\n",
       "      <td>1</td>\n",
       "    </tr>\n",
       "  </tbody>\n",
       "</table>\n",
       "</div>"
      ],
      "text/plain": [
       "                              Id_HistoricoJob  Id_Job  Fecha_Carga_Scheduler  \\\n",
       "Fecha_Ejec_Inicio   Id_Malla                                                   \n",
       "2017-12-15 14:55:01 T2DKAIH2                2       2                      2   \n",
       "2017-12-15 14:55:02 T2DFCAI2               18      18                     18   \n",
       "2017-12-15 14:55:03 02DNIHH2                1       1                      1   \n",
       "                    T0EKH993                1       1                      1   \n",
       "                    T2DAEII2                1       1                      1   \n",
       "\n",
       "                              Fecha_Ejec_Fin  Duracion  Promedio  Agente  \\\n",
       "Fecha_Ejec_Inicio   Id_Malla                                               \n",
       "2017-12-15 14:55:01 T2DKAIH2               2         2         2       0   \n",
       "2017-12-15 14:55:02 T2DFCAI2              18        18        18       0   \n",
       "2017-12-15 14:55:03 02DNIHH2               1         1         1       0   \n",
       "                    T0EKH993               1         1         1       0   \n",
       "                    T2DAEII2               1         1         1       0   \n",
       "\n",
       "                              Mxrc  Maxcmpc  Grupo  Force_Complete  CCF  \\\n",
       "Fecha_Ejec_Inicio   Id_Malla                                              \n",
       "2017-12-15 14:55:01 T2DKAIH2     2        2      2               2    2   \n",
       "2017-12-15 14:55:02 T2DFCAI2    18       18     18              18   18   \n",
       "2017-12-15 14:55:03 02DNIHH2     1        1      1               1    1   \n",
       "                    T0EKH993     1        1      1               1    1   \n",
       "                    T2DAEII2     1        1      1               1    1   \n",
       "\n",
       "                              Estado  \n",
       "Fecha_Ejec_Inicio   Id_Malla          \n",
       "2017-12-15 14:55:01 T2DKAIH2       2  \n",
       "2017-12-15 14:55:02 T2DFCAI2      18  \n",
       "2017-12-15 14:55:03 02DNIHH2       1  \n",
       "                    T0EKH993       1  \n",
       "                    T2DAEII2       1  "
      ]
     },
     "execution_count": 59,
     "metadata": {},
     "output_type": "execute_result"
    }
   ],
   "source": [
    "# Some Ids don't have start date\n",
    "csv.groupby(['Fecha_Ejec_Inicio', 'Id_Malla']).count().head()"
   ]
  },
  {
   "cell_type": "markdown",
   "metadata": {},
   "source": [
    "- Se aprecia que la columna Id_HistoricoJob corresponde a un index de la tabla por lo que se podria eliminar"
   ]
  },
  {
   "cell_type": "code",
   "execution_count": 60,
   "metadata": {},
   "outputs": [
    {
     "data": {
      "text/plain": [
       "3000000"
      ]
     },
     "execution_count": 60,
     "metadata": {},
     "output_type": "execute_result"
    }
   ],
   "source": [
    "# Row id\n",
    "len(csv.Id_HistoricoJob.unique())"
   ]
  },
  {
   "cell_type": "markdown",
   "metadata": {},
   "source": [
    "- Se desea ver cuantas columnas existen por cada grupo"
   ]
  },
  {
   "cell_type": "code",
   "execution_count": 61,
   "metadata": {},
   "outputs": [
    {
     "data": {
      "text/plain": [
       "array(['BBSCHP   ', 'SCHE01   ', 'SCHDFLT  '], dtype=object)"
      ]
     },
     "execution_count": 61,
     "metadata": {},
     "output_type": "execute_result"
    }
   ],
   "source": [
    "csv.Grupo.unique()"
   ]
  },
  {
   "cell_type": "code",
   "execution_count": 62,
   "metadata": {},
   "outputs": [
    {
     "data": {
      "text/html": [
       "<div>\n",
       "<style scoped>\n",
       "    .dataframe tbody tr th:only-of-type {\n",
       "        vertical-align: middle;\n",
       "    }\n",
       "\n",
       "    .dataframe tbody tr th {\n",
       "        vertical-align: top;\n",
       "    }\n",
       "\n",
       "    .dataframe thead th {\n",
       "        text-align: right;\n",
       "    }\n",
       "</style>\n",
       "<table border=\"1\" class=\"dataframe\">\n",
       "  <thead>\n",
       "    <tr style=\"text-align: right;\">\n",
       "      <th></th>\n",
       "      <th>Id_HistoricoJob</th>\n",
       "      <th>Id_Job</th>\n",
       "      <th>Id_Malla</th>\n",
       "      <th>Fecha_Carga_Scheduler</th>\n",
       "      <th>Fecha_Ejec_Inicio</th>\n",
       "      <th>Fecha_Ejec_Fin</th>\n",
       "      <th>Duracion</th>\n",
       "      <th>Promedio</th>\n",
       "      <th>Agente</th>\n",
       "      <th>Mxrc</th>\n",
       "      <th>Maxcmpc</th>\n",
       "      <th>Force_Complete</th>\n",
       "      <th>CCF</th>\n",
       "      <th>Estado</th>\n",
       "    </tr>\n",
       "    <tr>\n",
       "      <th>Grupo</th>\n",
       "      <th></th>\n",
       "      <th></th>\n",
       "      <th></th>\n",
       "      <th></th>\n",
       "      <th></th>\n",
       "      <th></th>\n",
       "      <th></th>\n",
       "      <th></th>\n",
       "      <th></th>\n",
       "      <th></th>\n",
       "      <th></th>\n",
       "      <th></th>\n",
       "      <th></th>\n",
       "      <th></th>\n",
       "    </tr>\n",
       "  </thead>\n",
       "  <tbody>\n",
       "    <tr>\n",
       "      <th>BBSCHP</th>\n",
       "      <td>234479</td>\n",
       "      <td>234479</td>\n",
       "      <td>234479</td>\n",
       "      <td>234479</td>\n",
       "      <td>234473</td>\n",
       "      <td>234328</td>\n",
       "      <td>234479</td>\n",
       "      <td>234479</td>\n",
       "      <td>2209</td>\n",
       "      <td>234479</td>\n",
       "      <td>234479</td>\n",
       "      <td>234479</td>\n",
       "      <td>234479</td>\n",
       "      <td>234479</td>\n",
       "    </tr>\n",
       "    <tr>\n",
       "      <th>SCHDFLT</th>\n",
       "      <td>295</td>\n",
       "      <td>295</td>\n",
       "      <td>295</td>\n",
       "      <td>295</td>\n",
       "      <td>294</td>\n",
       "      <td>294</td>\n",
       "      <td>295</td>\n",
       "      <td>295</td>\n",
       "      <td>0</td>\n",
       "      <td>295</td>\n",
       "      <td>295</td>\n",
       "      <td>295</td>\n",
       "      <td>295</td>\n",
       "      <td>295</td>\n",
       "    </tr>\n",
       "    <tr>\n",
       "      <th>SCHE01</th>\n",
       "      <td>2765226</td>\n",
       "      <td>2765226</td>\n",
       "      <td>2765226</td>\n",
       "      <td>2765226</td>\n",
       "      <td>2765138</td>\n",
       "      <td>2764801</td>\n",
       "      <td>2765226</td>\n",
       "      <td>2765226</td>\n",
       "      <td>1445729</td>\n",
       "      <td>2765226</td>\n",
       "      <td>2765226</td>\n",
       "      <td>2765226</td>\n",
       "      <td>2765226</td>\n",
       "      <td>2765226</td>\n",
       "    </tr>\n",
       "  </tbody>\n",
       "</table>\n",
       "</div>"
      ],
      "text/plain": [
       "           Id_HistoricoJob   Id_Job  Id_Malla  Fecha_Carga_Scheduler  \\\n",
       "Grupo                                                                  \n",
       "BBSCHP              234479   234479    234479                 234479   \n",
       "SCHDFLT                295      295       295                    295   \n",
       "SCHE01             2765226  2765226   2765226                2765226   \n",
       "\n",
       "           Fecha_Ejec_Inicio  Fecha_Ejec_Fin  Duracion  Promedio   Agente  \\\n",
       "Grupo                                                                       \n",
       "BBSCHP                234473          234328    234479    234479     2209   \n",
       "SCHDFLT                  294             294       295       295        0   \n",
       "SCHE01               2765138         2764801   2765226   2765226  1445729   \n",
       "\n",
       "              Mxrc  Maxcmpc  Force_Complete      CCF   Estado  \n",
       "Grupo                                                          \n",
       "BBSCHP      234479   234479          234479   234479   234479  \n",
       "SCHDFLT        295      295             295      295      295  \n",
       "SCHE01     2765226  2765226         2765226  2765226  2765226  "
      ]
     },
     "execution_count": 62,
     "metadata": {},
     "output_type": "execute_result"
    }
   ],
   "source": [
    "csv.groupby(['Grupo']).count()"
   ]
  },
  {
   "cell_type": "markdown",
   "metadata": {},
   "source": [
    "- Debido a que las columnas de duracion, promedio y las relacionadas a fechas son del tipo object se realizara un pequeño pre procesamiento sobre estas columnas para generar numeros enteros y facilitar el analisis"
   ]
  },
  {
   "cell_type": "code",
   "execution_count": 11,
   "metadata": {},
   "outputs": [],
   "source": [
    "csv['Duracion'] = csv['Duracion'].astype(str)\n",
    "csv['Promedio'] = csv['Promedio'].astype(str)\n",
    "csv['Fecha_Ejec_Inicio'] = csv['Fecha_Ejec_Inicio'].astype(str)\n",
    "csv['Fecha_Ejec_Fin'] = csv['Fecha_Ejec_Fin'].astype(str)\n",
    "csv['Fecha_Carga_Scheduler'] = csv['Fecha_Carga_Scheduler'].astype(str)"
   ]
  },
  {
   "cell_type": "code",
   "execution_count": 12,
   "metadata": {
    "collapsed": true
   },
   "outputs": [
    {
     "name": "stdout",
     "output_type": "stream",
     "text": [
      "CPU times: user 1min 25s, sys: 588 ms, total: 1min 26s\n",
      "Wall time: 1min 26s\n"
     ]
    }
   ],
   "source": [
    "%%time\n",
    "csv['duracion_int'] = csv.apply(lambda row: convert_int(row, 'Duracion'), axis=1) "
   ]
  },
  {
   "cell_type": "code",
   "execution_count": 13,
   "metadata": {
    "collapsed": true
   },
   "outputs": [
    {
     "name": "stdout",
     "output_type": "stream",
     "text": [
      "CPU times: user 1min 12s, sys: 412 ms, total: 1min 12s\n",
      "Wall time: 1min 12s\n"
     ]
    }
   ],
   "source": [
    "%%time\n",
    "csv['promedio_int'] = csv.apply(lambda row: convert_int(row, 'Promedio'), axis=1) "
   ]
  },
  {
   "cell_type": "code",
   "execution_count": 14,
   "metadata": {},
   "outputs": [
    {
     "name": "stdout",
     "output_type": "stream",
     "text": [
      "CPU times: user 7min 14s, sys: 3.21 s, total: 7min 17s\n",
      "Wall time: 7min 17s\n"
     ]
    }
   ],
   "source": [
    "%%time\n",
    "csv[['Fecha_Ejec_Inicio_Int', 'Hora_Ejec_Inicio_Int']] = csv.apply(lambda row: convert_date(row, 'Fecha_Ejec_Inicio'), axis=1)"
   ]
  },
  {
   "cell_type": "code",
   "execution_count": 15,
   "metadata": {},
   "outputs": [
    {
     "name": "stdout",
     "output_type": "stream",
     "text": [
      "CPU times: user 7min 5s, sys: 3.16 s, total: 7min 9s\n",
      "Wall time: 7min 9s\n"
     ]
    }
   ],
   "source": [
    "%%time\n",
    "csv[['Fecha_Ejec_Fin_Int', 'Hora_Ejec_Fin_Int']] = csv.apply(lambda row: convert_date(row, 'Fecha_Ejec_Fin'), axis=1)"
   ]
  },
  {
   "cell_type": "markdown",
   "metadata": {},
   "source": [
    "# Nulos en columnas"
   ]
  },
  {
   "cell_type": "markdown",
   "metadata": {},
   "source": [
    "Luego de realizada la conversion se eliminaran 3 columnas:"
   ]
  },
  {
   "cell_type": "code",
   "execution_count": 68,
   "metadata": {},
   "outputs": [],
   "source": [
    "csv.drop(['Id_HistoricoJob', 'Duracion', 'Promedio'], axis=1, inplace=True)"
   ]
  },
  {
   "cell_type": "code",
   "execution_count": 69,
   "metadata": {},
   "outputs": [
    {
     "data": {
      "text/html": [
       "<div>\n",
       "<style scoped>\n",
       "    .dataframe tbody tr th:only-of-type {\n",
       "        vertical-align: middle;\n",
       "    }\n",
       "\n",
       "    .dataframe tbody tr th {\n",
       "        vertical-align: top;\n",
       "    }\n",
       "\n",
       "    .dataframe thead th {\n",
       "        text-align: right;\n",
       "    }\n",
       "</style>\n",
       "<table border=\"1\" class=\"dataframe\">\n",
       "  <thead>\n",
       "    <tr style=\"text-align: right;\">\n",
       "      <th></th>\n",
       "      <th>Id_Job</th>\n",
       "      <th>Id_Malla</th>\n",
       "      <th>Fecha_Carga_Scheduler</th>\n",
       "      <th>Fecha_Ejec_Inicio</th>\n",
       "      <th>Fecha_Ejec_Fin</th>\n",
       "      <th>Agente</th>\n",
       "      <th>Mxrc</th>\n",
       "      <th>Maxcmpc</th>\n",
       "      <th>Grupo</th>\n",
       "      <th>Force_Complete</th>\n",
       "      <th>CCF</th>\n",
       "      <th>Estado</th>\n",
       "      <th>duracion_int</th>\n",
       "      <th>promedio_int</th>\n",
       "      <th>Fecha_Ejec_Inicio_Int</th>\n",
       "      <th>Hora_Ejec_Inicio_Int</th>\n",
       "      <th>Fecha_Ejec_Fin_Int</th>\n",
       "      <th>Hora_Ejec_Fin_Int</th>\n",
       "    </tr>\n",
       "  </thead>\n",
       "  <tbody>\n",
       "    <tr>\n",
       "      <th>0</th>\n",
       "      <td>JD5BA914</td>\n",
       "      <td>T2DKAIH2</td>\n",
       "      <td>2017-12-15 14:55:00</td>\n",
       "      <td>2017-12-15 14:55:01</td>\n",
       "      <td>2017-12-16 13:00:02</td>\n",
       "      <td>NaN</td>\n",
       "      <td>0</td>\n",
       "      <td>0</td>\n",
       "      <td>BBSCHP</td>\n",
       "      <td>YES</td>\n",
       "      <td>NO</td>\n",
       "      <td>COMPLETE</td>\n",
       "      <td>79500.0</td>\n",
       "      <td>88140.0</td>\n",
       "      <td>20171215.0</td>\n",
       "      <td>53701.0</td>\n",
       "      <td>20171216.0</td>\n",
       "      <td>46802.0</td>\n",
       "    </tr>\n",
       "    <tr>\n",
       "      <th>1</th>\n",
       "      <td>JD5BA932</td>\n",
       "      <td>T2DKAIH2</td>\n",
       "      <td>2017-12-15 14:55:00</td>\n",
       "      <td>2017-12-15 14:55:01</td>\n",
       "      <td>2017-12-16 13:00:02</td>\n",
       "      <td>NaN</td>\n",
       "      <td>0</td>\n",
       "      <td>0</td>\n",
       "      <td>BBSCHP</td>\n",
       "      <td>YES</td>\n",
       "      <td>NO</td>\n",
       "      <td>COMPLETE</td>\n",
       "      <td>79500.0</td>\n",
       "      <td>88140.0</td>\n",
       "      <td>20171215.0</td>\n",
       "      <td>53701.0</td>\n",
       "      <td>20171216.0</td>\n",
       "      <td>46802.0</td>\n",
       "    </tr>\n",
       "    <tr>\n",
       "      <th>2</th>\n",
       "      <td>JD5FKF29</td>\n",
       "      <td>T2DFCAI2</td>\n",
       "      <td>2017-12-15 14:55:00</td>\n",
       "      <td>2017-12-15 14:55:02</td>\n",
       "      <td>2017-12-16 13:00:01</td>\n",
       "      <td>NaN</td>\n",
       "      <td>0</td>\n",
       "      <td>0</td>\n",
       "      <td>BBSCHP</td>\n",
       "      <td>YES</td>\n",
       "      <td>NO</td>\n",
       "      <td>COMPLETE</td>\n",
       "      <td>79440.0</td>\n",
       "      <td>88140.0</td>\n",
       "      <td>20171215.0</td>\n",
       "      <td>53702.0</td>\n",
       "      <td>20171216.0</td>\n",
       "      <td>46801.0</td>\n",
       "    </tr>\n",
       "    <tr>\n",
       "      <th>3</th>\n",
       "      <td>JD5HR924</td>\n",
       "      <td>T2DFCAI2</td>\n",
       "      <td>2017-12-15 14:55:00</td>\n",
       "      <td>2017-12-15 14:55:02</td>\n",
       "      <td>2017-12-16 13:00:02</td>\n",
       "      <td>NaN</td>\n",
       "      <td>0</td>\n",
       "      <td>0</td>\n",
       "      <td>BBSCHP</td>\n",
       "      <td>YES</td>\n",
       "      <td>NO</td>\n",
       "      <td>COMPLETE</td>\n",
       "      <td>79440.0</td>\n",
       "      <td>88140.0</td>\n",
       "      <td>20171215.0</td>\n",
       "      <td>53702.0</td>\n",
       "      <td>20171216.0</td>\n",
       "      <td>46802.0</td>\n",
       "    </tr>\n",
       "    <tr>\n",
       "      <th>4</th>\n",
       "      <td>JD5HR922</td>\n",
       "      <td>T2DFCAI2</td>\n",
       "      <td>2017-12-15 14:55:00</td>\n",
       "      <td>2017-12-15 14:55:02</td>\n",
       "      <td>2017-12-16 13:00:02</td>\n",
       "      <td>NaN</td>\n",
       "      <td>0</td>\n",
       "      <td>0</td>\n",
       "      <td>BBSCHP</td>\n",
       "      <td>YES</td>\n",
       "      <td>NO</td>\n",
       "      <td>COMPLETE</td>\n",
       "      <td>79440.0</td>\n",
       "      <td>88140.0</td>\n",
       "      <td>20171215.0</td>\n",
       "      <td>53702.0</td>\n",
       "      <td>20171216.0</td>\n",
       "      <td>46802.0</td>\n",
       "    </tr>\n",
       "  </tbody>\n",
       "</table>\n",
       "</div>"
      ],
      "text/plain": [
       "     Id_Job  Id_Malla Fecha_Carga_Scheduler    Fecha_Ejec_Inicio  \\\n",
       "0  JD5BA914  T2DKAIH2   2017-12-15 14:55:00  2017-12-15 14:55:01   \n",
       "1  JD5BA932  T2DKAIH2   2017-12-15 14:55:00  2017-12-15 14:55:01   \n",
       "2  JD5FKF29  T2DFCAI2   2017-12-15 14:55:00  2017-12-15 14:55:02   \n",
       "3  JD5HR924  T2DFCAI2   2017-12-15 14:55:00  2017-12-15 14:55:02   \n",
       "4  JD5HR922  T2DFCAI2   2017-12-15 14:55:00  2017-12-15 14:55:02   \n",
       "\n",
       "        Fecha_Ejec_Fin Agente Mxrc Maxcmpc      Grupo Force_Complete   CCF  \\\n",
       "0  2017-12-16 13:00:02    NaN    0       0  BBSCHP             YES    NO     \n",
       "1  2017-12-16 13:00:02    NaN    0       0  BBSCHP             YES    NO     \n",
       "2  2017-12-16 13:00:01    NaN    0       0  BBSCHP             YES    NO     \n",
       "3  2017-12-16 13:00:02    NaN    0       0  BBSCHP             YES    NO     \n",
       "4  2017-12-16 13:00:02    NaN    0       0  BBSCHP             YES    NO     \n",
       "\n",
       "      Estado  duracion_int  promedio_int  Fecha_Ejec_Inicio_Int  \\\n",
       "0  COMPLETE        79500.0       88140.0             20171215.0   \n",
       "1  COMPLETE        79500.0       88140.0             20171215.0   \n",
       "2  COMPLETE        79440.0       88140.0             20171215.0   \n",
       "3  COMPLETE        79440.0       88140.0             20171215.0   \n",
       "4  COMPLETE        79440.0       88140.0             20171215.0   \n",
       "\n",
       "   Hora_Ejec_Inicio_Int  Fecha_Ejec_Fin_Int  Hora_Ejec_Fin_Int  \n",
       "0               53701.0          20171216.0            46802.0  \n",
       "1               53701.0          20171216.0            46802.0  \n",
       "2               53702.0          20171216.0            46801.0  \n",
       "3               53702.0          20171216.0            46802.0  \n",
       "4               53702.0          20171216.0            46802.0  "
      ]
     },
     "execution_count": 69,
     "metadata": {},
     "output_type": "execute_result"
    }
   ],
   "source": [
    "csv.reset_index(drop=True, inplace=True)\n",
    "csv.head()"
   ]
  },
  {
   "cell_type": "markdown",
   "metadata": {},
   "source": [
    "- Una vez realizado este pequeño pre procesamiento se pueden observar la cantidad de nulos que hay por columna"
   ]
  },
  {
   "cell_type": "code",
   "execution_count": 70,
   "metadata": {},
   "outputs": [
    {
     "data": {
      "text/plain": [
       "Id_Job                         0\n",
       "Id_Malla                       0\n",
       "Fecha_Carga_Scheduler          0\n",
       "Fecha_Ejec_Inicio              0\n",
       "Fecha_Ejec_Fin                 0\n",
       "Agente                   1552062\n",
       "Mxrc                           0\n",
       "Maxcmpc                        0\n",
       "Grupo                          0\n",
       "Force_Complete                 0\n",
       "CCF                            0\n",
       "Estado                         0\n",
       "duracion_int                  95\n",
       "promedio_int              712370\n",
       "Fecha_Ejec_Inicio_Int         95\n",
       "Hora_Ejec_Inicio_Int          95\n",
       "Fecha_Ejec_Fin_Int           577\n",
       "Hora_Ejec_Fin_Int            577\n",
       "dtype: int64"
      ]
     },
     "execution_count": 70,
     "metadata": {},
     "output_type": "execute_result"
    }
   ],
   "source": [
    "# Percentage of nulls \n",
    "csv.isnull().sum()"
   ]
  },
  {
   "cell_type": "code",
   "execution_count": 71,
   "metadata": {},
   "outputs": [
    {
     "data": {
      "text/plain": [
       "Id_Job                    0.000000\n",
       "Id_Malla                  0.000000\n",
       "Fecha_Carga_Scheduler     0.000000\n",
       "Fecha_Ejec_Inicio         0.000000\n",
       "Fecha_Ejec_Fin            0.000000\n",
       "Agente                   51.735400\n",
       "Mxrc                      0.000000\n",
       "Maxcmpc                   0.000000\n",
       "Grupo                     0.000000\n",
       "Force_Complete            0.000000\n",
       "CCF                       0.000000\n",
       "Estado                    0.000000\n",
       "duracion_int              0.003167\n",
       "promedio_int             23.745667\n",
       "Fecha_Ejec_Inicio_Int     0.003167\n",
       "Hora_Ejec_Inicio_Int      0.003167\n",
       "Fecha_Ejec_Fin_Int        0.019233\n",
       "Hora_Ejec_Fin_Int         0.019233\n",
       "dtype: float64"
      ]
     },
     "execution_count": 71,
     "metadata": {},
     "output_type": "execute_result"
    }
   ],
   "source": [
    "# Percentage of nulls \n",
    "100 * csv.isnull().sum() / csv.count().max()"
   ]
  },
  {
   "cell_type": "markdown",
   "metadata": {},
   "source": [
    "# Columnas categoricas"
   ]
  },
  {
   "cell_type": "code",
   "execution_count": 16,
   "metadata": {
    "collapsed": true
   },
   "outputs": [],
   "source": [
    "cat_columns = ['Agente', 'Mxrc', 'Maxcmpc', 'Grupo', 'Force_Complete', 'CCF', 'Estado']\n",
    "id_columns = ['Id_Job', 'Id_Malla']\n",
    "for column in cat_columns:\n",
    "    csv[column] = csv[column].astype('category').cat.codes"
   ]
  },
  {
   "cell_type": "code",
   "execution_count": 17,
   "metadata": {},
   "outputs": [
    {
     "data": {
      "text/html": [
       "<div>\n",
       "<style scoped>\n",
       "    .dataframe tbody tr th:only-of-type {\n",
       "        vertical-align: middle;\n",
       "    }\n",
       "\n",
       "    .dataframe tbody tr th {\n",
       "        vertical-align: top;\n",
       "    }\n",
       "\n",
       "    .dataframe thead th {\n",
       "        text-align: right;\n",
       "    }\n",
       "</style>\n",
       "<table border=\"1\" class=\"dataframe\">\n",
       "  <thead>\n",
       "    <tr style=\"text-align: right;\">\n",
       "      <th></th>\n",
       "      <th>Id_HistoricoJob</th>\n",
       "      <th>Id_Job</th>\n",
       "      <th>Id_Malla</th>\n",
       "      <th>Fecha_Carga_Scheduler</th>\n",
       "      <th>Fecha_Ejec_Inicio</th>\n",
       "      <th>Fecha_Ejec_Fin</th>\n",
       "      <th>Duracion</th>\n",
       "      <th>Promedio</th>\n",
       "      <th>Agente</th>\n",
       "      <th>Mxrc</th>\n",
       "      <th>...</th>\n",
       "      <th>Grupo</th>\n",
       "      <th>Force_Complete</th>\n",
       "      <th>CCF</th>\n",
       "      <th>Estado</th>\n",
       "      <th>duracion_int</th>\n",
       "      <th>promedio_int</th>\n",
       "      <th>Fecha_Ejec_Inicio_Int</th>\n",
       "      <th>Hora_Ejec_Inicio_Int</th>\n",
       "      <th>Fecha_Ejec_Fin_Int</th>\n",
       "      <th>Hora_Ejec_Fin_Int</th>\n",
       "    </tr>\n",
       "  </thead>\n",
       "  <tbody>\n",
       "    <tr>\n",
       "      <th>0</th>\n",
       "      <td>4559926</td>\n",
       "      <td>@E2SM299</td>\n",
       "      <td>02SM299F</td>\n",
       "      <td>2017-12-16 22:40:00</td>\n",
       "      <td>2017-12-16 22:40:00</td>\n",
       "      <td>2017-12-16 22:40:02</td>\n",
       "      <td>2</td>\n",
       "      <td>1M00</td>\n",
       "      <td>77</td>\n",
       "      <td>0</td>\n",
       "      <td>...</td>\n",
       "      <td>2</td>\n",
       "      <td>0</td>\n",
       "      <td>0</td>\n",
       "      <td>0</td>\n",
       "      <td>2.0</td>\n",
       "      <td>60.0</td>\n",
       "      <td>20171216.0</td>\n",
       "      <td>81600.0</td>\n",
       "      <td>20171216.0</td>\n",
       "      <td>81602.0</td>\n",
       "    </tr>\n",
       "    <tr>\n",
       "      <th>1</th>\n",
       "      <td>4559927</td>\n",
       "      <td>@E2SM299</td>\n",
       "      <td>02SM299F</td>\n",
       "      <td>2017-12-16 22:20:00</td>\n",
       "      <td>2017-12-16 22:20:00</td>\n",
       "      <td>2017-12-16 22:20:02</td>\n",
       "      <td>2</td>\n",
       "      <td>-</td>\n",
       "      <td>77</td>\n",
       "      <td>0</td>\n",
       "      <td>...</td>\n",
       "      <td>2</td>\n",
       "      <td>0</td>\n",
       "      <td>0</td>\n",
       "      <td>0</td>\n",
       "      <td>2.0</td>\n",
       "      <td>NaN</td>\n",
       "      <td>20171216.0</td>\n",
       "      <td>80400.0</td>\n",
       "      <td>20171216.0</td>\n",
       "      <td>80402.0</td>\n",
       "    </tr>\n",
       "    <tr>\n",
       "      <th>2</th>\n",
       "      <td>4559928</td>\n",
       "      <td>@E2SM299</td>\n",
       "      <td>02SM299F</td>\n",
       "      <td>2017-12-16 22:00:00</td>\n",
       "      <td>2017-12-16 22:00:01</td>\n",
       "      <td>2017-12-16 22:00:05</td>\n",
       "      <td>4</td>\n",
       "      <td>-</td>\n",
       "      <td>77</td>\n",
       "      <td>0</td>\n",
       "      <td>...</td>\n",
       "      <td>2</td>\n",
       "      <td>0</td>\n",
       "      <td>0</td>\n",
       "      <td>0</td>\n",
       "      <td>4.0</td>\n",
       "      <td>NaN</td>\n",
       "      <td>20171216.0</td>\n",
       "      <td>79201.0</td>\n",
       "      <td>20171216.0</td>\n",
       "      <td>79205.0</td>\n",
       "    </tr>\n",
       "    <tr>\n",
       "      <th>3</th>\n",
       "      <td>4559929</td>\n",
       "      <td>@E2SM299</td>\n",
       "      <td>02SM299F</td>\n",
       "      <td>2017-12-16 21:40:00</td>\n",
       "      <td>2017-12-16 21:40:00</td>\n",
       "      <td>2017-12-16 21:40:02</td>\n",
       "      <td>2</td>\n",
       "      <td>1M00</td>\n",
       "      <td>77</td>\n",
       "      <td>0</td>\n",
       "      <td>...</td>\n",
       "      <td>2</td>\n",
       "      <td>0</td>\n",
       "      <td>0</td>\n",
       "      <td>0</td>\n",
       "      <td>2.0</td>\n",
       "      <td>60.0</td>\n",
       "      <td>20171216.0</td>\n",
       "      <td>78000.0</td>\n",
       "      <td>20171216.0</td>\n",
       "      <td>78002.0</td>\n",
       "    </tr>\n",
       "    <tr>\n",
       "      <th>4</th>\n",
       "      <td>4559930</td>\n",
       "      <td>@E2SM299</td>\n",
       "      <td>02SM299F</td>\n",
       "      <td>2017-12-16 21:20:00</td>\n",
       "      <td>2017-12-16 21:20:00</td>\n",
       "      <td>2017-12-16 21:20:04</td>\n",
       "      <td>4</td>\n",
       "      <td>-</td>\n",
       "      <td>77</td>\n",
       "      <td>0</td>\n",
       "      <td>...</td>\n",
       "      <td>2</td>\n",
       "      <td>0</td>\n",
       "      <td>0</td>\n",
       "      <td>0</td>\n",
       "      <td>4.0</td>\n",
       "      <td>NaN</td>\n",
       "      <td>20171216.0</td>\n",
       "      <td>76800.0</td>\n",
       "      <td>20171216.0</td>\n",
       "      <td>76804.0</td>\n",
       "    </tr>\n",
       "  </tbody>\n",
       "</table>\n",
       "<p>5 rows × 21 columns</p>\n",
       "</div>"
      ],
      "text/plain": [
       "   Id_HistoricoJob    Id_Job  Id_Malla Fecha_Carga_Scheduler  \\\n",
       "0          4559926  @E2SM299  02SM299F   2017-12-16 22:40:00   \n",
       "1          4559927  @E2SM299  02SM299F   2017-12-16 22:20:00   \n",
       "2          4559928  @E2SM299  02SM299F   2017-12-16 22:00:00   \n",
       "3          4559929  @E2SM299  02SM299F   2017-12-16 21:40:00   \n",
       "4          4559930  @E2SM299  02SM299F   2017-12-16 21:20:00   \n",
       "\n",
       "     Fecha_Ejec_Inicio       Fecha_Ejec_Fin Duracion Promedio  Agente  Mxrc  \\\n",
       "0  2017-12-16 22:40:00  2017-12-16 22:40:02        2     1M00      77     0   \n",
       "1  2017-12-16 22:20:00  2017-12-16 22:20:02        2        -      77     0   \n",
       "2  2017-12-16 22:00:01  2017-12-16 22:00:05        4        -      77     0   \n",
       "3  2017-12-16 21:40:00  2017-12-16 21:40:02        2     1M00      77     0   \n",
       "4  2017-12-16 21:20:00  2017-12-16 21:20:04        4        -      77     0   \n",
       "\n",
       "         ...          Grupo  Force_Complete  CCF  Estado  duracion_int  \\\n",
       "0        ...              2               0    0       0           2.0   \n",
       "1        ...              2               0    0       0           2.0   \n",
       "2        ...              2               0    0       0           4.0   \n",
       "3        ...              2               0    0       0           2.0   \n",
       "4        ...              2               0    0       0           4.0   \n",
       "\n",
       "   promedio_int  Fecha_Ejec_Inicio_Int  Hora_Ejec_Inicio_Int  \\\n",
       "0          60.0             20171216.0               81600.0   \n",
       "1           NaN             20171216.0               80400.0   \n",
       "2           NaN             20171216.0               79201.0   \n",
       "3          60.0             20171216.0               78000.0   \n",
       "4           NaN             20171216.0               76800.0   \n",
       "\n",
       "   Fecha_Ejec_Fin_Int  Hora_Ejec_Fin_Int  \n",
       "0          20171216.0            81602.0  \n",
       "1          20171216.0            80402.0  \n",
       "2          20171216.0            79205.0  \n",
       "3          20171216.0            78002.0  \n",
       "4          20171216.0            76804.0  \n",
       "\n",
       "[5 rows x 21 columns]"
      ]
     },
     "execution_count": 17,
     "metadata": {},
     "output_type": "execute_result"
    }
   ],
   "source": [
    "csv.head()"
   ]
  },
  {
   "cell_type": "markdown",
   "metadata": {},
   "source": [
    "# Analisis de Jobs"
   ]
  },
  {
   "cell_type": "markdown",
   "metadata": {},
   "source": [
    "- Se observara la cantidad de ejecuciones de un job para una malla en un solo dia"
   ]
  },
  {
   "cell_type": "code",
   "execution_count": 74,
   "metadata": {},
   "outputs": [
    {
     "data": {
      "text/plain": [
       "((13790, 19), (83061, 19), (2038704, 19))"
      ]
     },
     "execution_count": 74,
     "metadata": {},
     "output_type": "execute_result"
    }
   ],
   "source": [
    "temp = csv.groupby(['Id_Job', 'Id_Malla', 'Fecha_Ejec_Inicio_Int']).count().reset_index().sort_values('Agente', ascending=False).reset_index()\n",
    "temp.loc[temp.Agente >= 10].shape, temp.loc[temp.Agente >= 2].shape, temp.loc[temp.Agente == 1].shape "
   ]
  },
  {
   "cell_type": "code",
   "execution_count": 179,
   "metadata": {},
   "outputs": [
    {
     "data": {
      "text/html": [
       "<div>\n",
       "<style scoped>\n",
       "    .dataframe tbody tr th:only-of-type {\n",
       "        vertical-align: middle;\n",
       "    }\n",
       "\n",
       "    .dataframe tbody tr th {\n",
       "        vertical-align: top;\n",
       "    }\n",
       "\n",
       "    .dataframe thead th {\n",
       "        text-align: right;\n",
       "    }\n",
       "</style>\n",
       "<table border=\"1\" class=\"dataframe\">\n",
       "  <thead>\n",
       "    <tr style=\"text-align: right;\">\n",
       "      <th></th>\n",
       "      <th>index</th>\n",
       "      <th>Id_Job</th>\n",
       "      <th>Id_Malla</th>\n",
       "      <th>Fecha_Ejec_Inicio_Int</th>\n",
       "      <th>Fecha_Carga_Scheduler</th>\n",
       "      <th>Fecha_Ejec_Inicio</th>\n",
       "      <th>Fecha_Ejec_Fin</th>\n",
       "      <th>Agente</th>\n",
       "      <th>Mxrc</th>\n",
       "      <th>Maxcmpc</th>\n",
       "      <th>Grupo</th>\n",
       "      <th>Force_Complete</th>\n",
       "      <th>CCF</th>\n",
       "      <th>Estado</th>\n",
       "      <th>duracion_int</th>\n",
       "      <th>promedio_int</th>\n",
       "      <th>Hora_Ejec_Inicio_Int</th>\n",
       "      <th>Fecha_Ejec_Fin_Int</th>\n",
       "      <th>Hora_Ejec_Fin_Int</th>\n",
       "    </tr>\n",
       "  </thead>\n",
       "  <tbody>\n",
       "    <tr>\n",
       "      <th>2005</th>\n",
       "      <td>13878</td>\n",
       "      <td>@E2FEM91</td>\n",
       "      <td>04FEHBQ0</td>\n",
       "      <td>20170806.0</td>\n",
       "      <td>10</td>\n",
       "      <td>10</td>\n",
       "      <td>10</td>\n",
       "      <td>10</td>\n",
       "      <td>10</td>\n",
       "      <td>10</td>\n",
       "      <td>10</td>\n",
       "      <td>10</td>\n",
       "      <td>10</td>\n",
       "      <td>10</td>\n",
       "      <td>10</td>\n",
       "      <td>10</td>\n",
       "      <td>10</td>\n",
       "      <td>10</td>\n",
       "      <td>10</td>\n",
       "    </tr>\n",
       "    <tr>\n",
       "      <th>2006</th>\n",
       "      <td>13891</td>\n",
       "      <td>@E2FEM91</td>\n",
       "      <td>04FEHBQ0</td>\n",
       "      <td>20170820.0</td>\n",
       "      <td>10</td>\n",
       "      <td>10</td>\n",
       "      <td>10</td>\n",
       "      <td>10</td>\n",
       "      <td>10</td>\n",
       "      <td>10</td>\n",
       "      <td>10</td>\n",
       "      <td>10</td>\n",
       "      <td>10</td>\n",
       "      <td>10</td>\n",
       "      <td>10</td>\n",
       "      <td>10</td>\n",
       "      <td>10</td>\n",
       "      <td>10</td>\n",
       "      <td>10</td>\n",
       "    </tr>\n",
       "    <tr>\n",
       "      <th>2007</th>\n",
       "      <td>13870</td>\n",
       "      <td>@E2FEM91</td>\n",
       "      <td>04FEHBQ0</td>\n",
       "      <td>20170729.0</td>\n",
       "      <td>10</td>\n",
       "      <td>10</td>\n",
       "      <td>10</td>\n",
       "      <td>10</td>\n",
       "      <td>10</td>\n",
       "      <td>10</td>\n",
       "      <td>10</td>\n",
       "      <td>10</td>\n",
       "      <td>10</td>\n",
       "      <td>10</td>\n",
       "      <td>10</td>\n",
       "      <td>10</td>\n",
       "      <td>10</td>\n",
       "      <td>10</td>\n",
       "      <td>10</td>\n",
       "    </tr>\n",
       "    <tr>\n",
       "      <th>2008</th>\n",
       "      <td>13871</td>\n",
       "      <td>@E2FEM91</td>\n",
       "      <td>04FEHBQ0</td>\n",
       "      <td>20170730.0</td>\n",
       "      <td>10</td>\n",
       "      <td>10</td>\n",
       "      <td>10</td>\n",
       "      <td>10</td>\n",
       "      <td>10</td>\n",
       "      <td>10</td>\n",
       "      <td>10</td>\n",
       "      <td>10</td>\n",
       "      <td>10</td>\n",
       "      <td>10</td>\n",
       "      <td>10</td>\n",
       "      <td>0</td>\n",
       "      <td>10</td>\n",
       "      <td>10</td>\n",
       "      <td>10</td>\n",
       "    </tr>\n",
       "    <tr>\n",
       "      <th>2009</th>\n",
       "      <td>13905</td>\n",
       "      <td>@E2FEM91</td>\n",
       "      <td>04FEHBQ0</td>\n",
       "      <td>20170903.0</td>\n",
       "      <td>10</td>\n",
       "      <td>10</td>\n",
       "      <td>10</td>\n",
       "      <td>10</td>\n",
       "      <td>10</td>\n",
       "      <td>10</td>\n",
       "      <td>10</td>\n",
       "      <td>10</td>\n",
       "      <td>10</td>\n",
       "      <td>10</td>\n",
       "      <td>10</td>\n",
       "      <td>10</td>\n",
       "      <td>10</td>\n",
       "      <td>10</td>\n",
       "      <td>10</td>\n",
       "    </tr>\n",
       "    <tr>\n",
       "      <th>2010</th>\n",
       "      <td>13898</td>\n",
       "      <td>@E2FEM91</td>\n",
       "      <td>04FEHBQ0</td>\n",
       "      <td>20170827.0</td>\n",
       "      <td>10</td>\n",
       "      <td>10</td>\n",
       "      <td>10</td>\n",
       "      <td>10</td>\n",
       "      <td>10</td>\n",
       "      <td>10</td>\n",
       "      <td>10</td>\n",
       "      <td>10</td>\n",
       "      <td>10</td>\n",
       "      <td>10</td>\n",
       "      <td>10</td>\n",
       "      <td>10</td>\n",
       "      <td>10</td>\n",
       "      <td>10</td>\n",
       "      <td>10</td>\n",
       "    </tr>\n",
       "    <tr>\n",
       "      <th>2011</th>\n",
       "      <td>13911</td>\n",
       "      <td>@E2FEM91</td>\n",
       "      <td>04FEHBQ0</td>\n",
       "      <td>20170910.0</td>\n",
       "      <td>10</td>\n",
       "      <td>10</td>\n",
       "      <td>10</td>\n",
       "      <td>10</td>\n",
       "      <td>10</td>\n",
       "      <td>10</td>\n",
       "      <td>10</td>\n",
       "      <td>10</td>\n",
       "      <td>10</td>\n",
       "      <td>10</td>\n",
       "      <td>10</td>\n",
       "      <td>10</td>\n",
       "      <td>10</td>\n",
       "      <td>10</td>\n",
       "      <td>10</td>\n",
       "    </tr>\n",
       "    <tr>\n",
       "      <th>2012</th>\n",
       "      <td>14700</td>\n",
       "      <td>@E2FEV91</td>\n",
       "      <td>04FEHBQ0</td>\n",
       "      <td>20170903.0</td>\n",
       "      <td>10</td>\n",
       "      <td>10</td>\n",
       "      <td>10</td>\n",
       "      <td>10</td>\n",
       "      <td>10</td>\n",
       "      <td>10</td>\n",
       "      <td>10</td>\n",
       "      <td>10</td>\n",
       "      <td>10</td>\n",
       "      <td>10</td>\n",
       "      <td>10</td>\n",
       "      <td>10</td>\n",
       "      <td>10</td>\n",
       "      <td>10</td>\n",
       "      <td>10</td>\n",
       "    </tr>\n",
       "    <tr>\n",
       "      <th>2013</th>\n",
       "      <td>13059</td>\n",
       "      <td>@E2FEH91</td>\n",
       "      <td>04FEHBQ0</td>\n",
       "      <td>20170806.0</td>\n",
       "      <td>10</td>\n",
       "      <td>10</td>\n",
       "      <td>10</td>\n",
       "      <td>10</td>\n",
       "      <td>10</td>\n",
       "      <td>10</td>\n",
       "      <td>10</td>\n",
       "      <td>10</td>\n",
       "      <td>10</td>\n",
       "      <td>10</td>\n",
       "      <td>10</td>\n",
       "      <td>10</td>\n",
       "      <td>10</td>\n",
       "      <td>10</td>\n",
       "      <td>10</td>\n",
       "    </tr>\n",
       "    <tr>\n",
       "      <th>2014</th>\n",
       "      <td>14706</td>\n",
       "      <td>@E2FEV91</td>\n",
       "      <td>04FEHBQ0</td>\n",
       "      <td>20170910.0</td>\n",
       "      <td>10</td>\n",
       "      <td>10</td>\n",
       "      <td>10</td>\n",
       "      <td>10</td>\n",
       "      <td>10</td>\n",
       "      <td>10</td>\n",
       "      <td>10</td>\n",
       "      <td>10</td>\n",
       "      <td>10</td>\n",
       "      <td>10</td>\n",
       "      <td>10</td>\n",
       "      <td>10</td>\n",
       "      <td>10</td>\n",
       "      <td>10</td>\n",
       "      <td>10</td>\n",
       "    </tr>\n",
       "    <tr>\n",
       "      <th>2015</th>\n",
       "      <td>13051</td>\n",
       "      <td>@E2FEH91</td>\n",
       "      <td>04FEHBQ0</td>\n",
       "      <td>20170729.0</td>\n",
       "      <td>10</td>\n",
       "      <td>10</td>\n",
       "      <td>10</td>\n",
       "      <td>10</td>\n",
       "      <td>10</td>\n",
       "      <td>10</td>\n",
       "      <td>10</td>\n",
       "      <td>10</td>\n",
       "      <td>10</td>\n",
       "      <td>10</td>\n",
       "      <td>10</td>\n",
       "      <td>10</td>\n",
       "      <td>10</td>\n",
       "      <td>10</td>\n",
       "      <td>10</td>\n",
       "    </tr>\n",
       "    <tr>\n",
       "      <th>2016</th>\n",
       "      <td>13052</td>\n",
       "      <td>@E2FEH91</td>\n",
       "      <td>04FEHBQ0</td>\n",
       "      <td>20170730.0</td>\n",
       "      <td>10</td>\n",
       "      <td>10</td>\n",
       "      <td>10</td>\n",
       "      <td>10</td>\n",
       "      <td>10</td>\n",
       "      <td>10</td>\n",
       "      <td>10</td>\n",
       "      <td>10</td>\n",
       "      <td>10</td>\n",
       "      <td>10</td>\n",
       "      <td>10</td>\n",
       "      <td>0</td>\n",
       "      <td>10</td>\n",
       "      <td>10</td>\n",
       "      <td>10</td>\n",
       "    </tr>\n",
       "    <tr>\n",
       "      <th>2017</th>\n",
       "      <td>13092</td>\n",
       "      <td>@E2FEH91</td>\n",
       "      <td>04FEHBQ0</td>\n",
       "      <td>20170910.0</td>\n",
       "      <td>10</td>\n",
       "      <td>10</td>\n",
       "      <td>10</td>\n",
       "      <td>10</td>\n",
       "      <td>10</td>\n",
       "      <td>10</td>\n",
       "      <td>10</td>\n",
       "      <td>10</td>\n",
       "      <td>10</td>\n",
       "      <td>10</td>\n",
       "      <td>10</td>\n",
       "      <td>10</td>\n",
       "      <td>10</td>\n",
       "      <td>10</td>\n",
       "      <td>10</td>\n",
       "    </tr>\n",
       "    <tr>\n",
       "      <th>2018</th>\n",
       "      <td>13086</td>\n",
       "      <td>@E2FEH91</td>\n",
       "      <td>04FEHBQ0</td>\n",
       "      <td>20170903.0</td>\n",
       "      <td>10</td>\n",
       "      <td>10</td>\n",
       "      <td>10</td>\n",
       "      <td>10</td>\n",
       "      <td>10</td>\n",
       "      <td>10</td>\n",
       "      <td>10</td>\n",
       "      <td>10</td>\n",
       "      <td>10</td>\n",
       "      <td>10</td>\n",
       "      <td>10</td>\n",
       "      <td>10</td>\n",
       "      <td>10</td>\n",
       "      <td>10</td>\n",
       "      <td>10</td>\n",
       "    </tr>\n",
       "    <tr>\n",
       "      <th>2019</th>\n",
       "      <td>14693</td>\n",
       "      <td>@E2FEV91</td>\n",
       "      <td>04FEHBQ0</td>\n",
       "      <td>20170827.0</td>\n",
       "      <td>10</td>\n",
       "      <td>10</td>\n",
       "      <td>10</td>\n",
       "      <td>10</td>\n",
       "      <td>10</td>\n",
       "      <td>10</td>\n",
       "      <td>10</td>\n",
       "      <td>10</td>\n",
       "      <td>10</td>\n",
       "      <td>10</td>\n",
       "      <td>10</td>\n",
       "      <td>10</td>\n",
       "      <td>10</td>\n",
       "      <td>10</td>\n",
       "      <td>10</td>\n",
       "    </tr>\n",
       "    <tr>\n",
       "      <th>2020</th>\n",
       "      <td>14686</td>\n",
       "      <td>@E2FEV91</td>\n",
       "      <td>04FEHBQ0</td>\n",
       "      <td>20170820.0</td>\n",
       "      <td>10</td>\n",
       "      <td>10</td>\n",
       "      <td>10</td>\n",
       "      <td>10</td>\n",
       "      <td>10</td>\n",
       "      <td>10</td>\n",
       "      <td>10</td>\n",
       "      <td>10</td>\n",
       "      <td>10</td>\n",
       "      <td>10</td>\n",
       "      <td>10</td>\n",
       "      <td>10</td>\n",
       "      <td>10</td>\n",
       "      <td>10</td>\n",
       "      <td>10</td>\n",
       "    </tr>\n",
       "    <tr>\n",
       "      <th>2021</th>\n",
       "      <td>14680</td>\n",
       "      <td>@E2FEV91</td>\n",
       "      <td>04FEHBQ0</td>\n",
       "      <td>20170814.0</td>\n",
       "      <td>10</td>\n",
       "      <td>10</td>\n",
       "      <td>10</td>\n",
       "      <td>10</td>\n",
       "      <td>10</td>\n",
       "      <td>10</td>\n",
       "      <td>10</td>\n",
       "      <td>10</td>\n",
       "      <td>10</td>\n",
       "      <td>10</td>\n",
       "      <td>10</td>\n",
       "      <td>10</td>\n",
       "      <td>10</td>\n",
       "      <td>10</td>\n",
       "      <td>10</td>\n",
       "    </tr>\n",
       "    <tr>\n",
       "      <th>2022</th>\n",
       "      <td>14673</td>\n",
       "      <td>@E2FEV91</td>\n",
       "      <td>04FEHBQ0</td>\n",
       "      <td>20170806.0</td>\n",
       "      <td>10</td>\n",
       "      <td>10</td>\n",
       "      <td>10</td>\n",
       "      <td>10</td>\n",
       "      <td>10</td>\n",
       "      <td>10</td>\n",
       "      <td>10</td>\n",
       "      <td>10</td>\n",
       "      <td>10</td>\n",
       "      <td>10</td>\n",
       "      <td>10</td>\n",
       "      <td>10</td>\n",
       "      <td>10</td>\n",
       "      <td>10</td>\n",
       "      <td>10</td>\n",
       "    </tr>\n",
       "    <tr>\n",
       "      <th>2023</th>\n",
       "      <td>14666</td>\n",
       "      <td>@E2FEV91</td>\n",
       "      <td>04FEHBQ0</td>\n",
       "      <td>20170730.0</td>\n",
       "      <td>10</td>\n",
       "      <td>10</td>\n",
       "      <td>10</td>\n",
       "      <td>10</td>\n",
       "      <td>10</td>\n",
       "      <td>10</td>\n",
       "      <td>10</td>\n",
       "      <td>10</td>\n",
       "      <td>10</td>\n",
       "      <td>10</td>\n",
       "      <td>10</td>\n",
       "      <td>0</td>\n",
       "      <td>10</td>\n",
       "      <td>10</td>\n",
       "      <td>10</td>\n",
       "    </tr>\n",
       "    <tr>\n",
       "      <th>2024</th>\n",
       "      <td>14665</td>\n",
       "      <td>@E2FEV91</td>\n",
       "      <td>04FEHBQ0</td>\n",
       "      <td>20170729.0</td>\n",
       "      <td>10</td>\n",
       "      <td>10</td>\n",
       "      <td>10</td>\n",
       "      <td>10</td>\n",
       "      <td>10</td>\n",
       "      <td>10</td>\n",
       "      <td>10</td>\n",
       "      <td>10</td>\n",
       "      <td>10</td>\n",
       "      <td>10</td>\n",
       "      <td>10</td>\n",
       "      <td>10</td>\n",
       "      <td>10</td>\n",
       "      <td>10</td>\n",
       "      <td>10</td>\n",
       "    </tr>\n",
       "  </tbody>\n",
       "</table>\n",
       "</div>"
      ],
      "text/plain": [
       "      index    Id_Job  Id_Malla  Fecha_Ejec_Inicio_Int  Fecha_Carga_Scheduler  \\\n",
       "2005  13878  @E2FEM91  04FEHBQ0             20170806.0                     10   \n",
       "2006  13891  @E2FEM91  04FEHBQ0             20170820.0                     10   \n",
       "2007  13870  @E2FEM91  04FEHBQ0             20170729.0                     10   \n",
       "2008  13871  @E2FEM91  04FEHBQ0             20170730.0                     10   \n",
       "2009  13905  @E2FEM91  04FEHBQ0             20170903.0                     10   \n",
       "2010  13898  @E2FEM91  04FEHBQ0             20170827.0                     10   \n",
       "2011  13911  @E2FEM91  04FEHBQ0             20170910.0                     10   \n",
       "2012  14700  @E2FEV91  04FEHBQ0             20170903.0                     10   \n",
       "2013  13059  @E2FEH91  04FEHBQ0             20170806.0                     10   \n",
       "2014  14706  @E2FEV91  04FEHBQ0             20170910.0                     10   \n",
       "2015  13051  @E2FEH91  04FEHBQ0             20170729.0                     10   \n",
       "2016  13052  @E2FEH91  04FEHBQ0             20170730.0                     10   \n",
       "2017  13092  @E2FEH91  04FEHBQ0             20170910.0                     10   \n",
       "2018  13086  @E2FEH91  04FEHBQ0             20170903.0                     10   \n",
       "2019  14693  @E2FEV91  04FEHBQ0             20170827.0                     10   \n",
       "2020  14686  @E2FEV91  04FEHBQ0             20170820.0                     10   \n",
       "2021  14680  @E2FEV91  04FEHBQ0             20170814.0                     10   \n",
       "2022  14673  @E2FEV91  04FEHBQ0             20170806.0                     10   \n",
       "2023  14666  @E2FEV91  04FEHBQ0             20170730.0                     10   \n",
       "2024  14665  @E2FEV91  04FEHBQ0             20170729.0                     10   \n",
       "\n",
       "      Fecha_Ejec_Inicio  Fecha_Ejec_Fin  Agente  Mxrc  Maxcmpc  Grupo  \\\n",
       "2005                 10              10      10    10       10     10   \n",
       "2006                 10              10      10    10       10     10   \n",
       "2007                 10              10      10    10       10     10   \n",
       "2008                 10              10      10    10       10     10   \n",
       "2009                 10              10      10    10       10     10   \n",
       "2010                 10              10      10    10       10     10   \n",
       "2011                 10              10      10    10       10     10   \n",
       "2012                 10              10      10    10       10     10   \n",
       "2013                 10              10      10    10       10     10   \n",
       "2014                 10              10      10    10       10     10   \n",
       "2015                 10              10      10    10       10     10   \n",
       "2016                 10              10      10    10       10     10   \n",
       "2017                 10              10      10    10       10     10   \n",
       "2018                 10              10      10    10       10     10   \n",
       "2019                 10              10      10    10       10     10   \n",
       "2020                 10              10      10    10       10     10   \n",
       "2021                 10              10      10    10       10     10   \n",
       "2022                 10              10      10    10       10     10   \n",
       "2023                 10              10      10    10       10     10   \n",
       "2024                 10              10      10    10       10     10   \n",
       "\n",
       "      Force_Complete  CCF  Estado  duracion_int  promedio_int  \\\n",
       "2005              10   10      10            10            10   \n",
       "2006              10   10      10            10            10   \n",
       "2007              10   10      10            10            10   \n",
       "2008              10   10      10            10             0   \n",
       "2009              10   10      10            10            10   \n",
       "2010              10   10      10            10            10   \n",
       "2011              10   10      10            10            10   \n",
       "2012              10   10      10            10            10   \n",
       "2013              10   10      10            10            10   \n",
       "2014              10   10      10            10            10   \n",
       "2015              10   10      10            10            10   \n",
       "2016              10   10      10            10             0   \n",
       "2017              10   10      10            10            10   \n",
       "2018              10   10      10            10            10   \n",
       "2019              10   10      10            10            10   \n",
       "2020              10   10      10            10            10   \n",
       "2021              10   10      10            10            10   \n",
       "2022              10   10      10            10            10   \n",
       "2023              10   10      10            10             0   \n",
       "2024              10   10      10            10            10   \n",
       "\n",
       "      Hora_Ejec_Inicio_Int  Fecha_Ejec_Fin_Int  Hora_Ejec_Fin_Int  \n",
       "2005                    10                  10                 10  \n",
       "2006                    10                  10                 10  \n",
       "2007                    10                  10                 10  \n",
       "2008                    10                  10                 10  \n",
       "2009                    10                  10                 10  \n",
       "2010                    10                  10                 10  \n",
       "2011                    10                  10                 10  \n",
       "2012                    10                  10                 10  \n",
       "2013                    10                  10                 10  \n",
       "2014                    10                  10                 10  \n",
       "2015                    10                  10                 10  \n",
       "2016                    10                  10                 10  \n",
       "2017                    10                  10                 10  \n",
       "2018                    10                  10                 10  \n",
       "2019                    10                  10                 10  \n",
       "2020                    10                  10                 10  \n",
       "2021                    10                  10                 10  \n",
       "2022                    10                  10                 10  \n",
       "2023                    10                  10                 10  \n",
       "2024                    10                  10                 10  "
      ]
     },
     "execution_count": 179,
     "metadata": {},
     "output_type": "execute_result"
    }
   ],
   "source": [
    "temp.loc[temp.Agente <=10].head(20)"
   ]
  },
  {
   "cell_type": "code",
   "execution_count": 168,
   "metadata": {},
   "outputs": [],
   "source": [
    "def print_some_information(df, id_malla, id_job, start_date):\n",
    "    temp = df.loc[(df.Id_Malla == id_malla) & (df.Id_Job == id_job) & (df.Fecha_Ejec_Inicio_Int == start_date)]\n",
    "    print(f'informacion for: {id_malla} {id_job} {start_date}')\n",
    "    print(temp.duracion_int.max())\n",
    "    print(temp.duracion_int.min())\n",
    "    print(temp.duracion_int.mean())    \n",
    "    print(temp.duracion_int.median())"
   ]
  },
  {
   "cell_type": "code",
   "execution_count": 177,
   "metadata": {},
   "outputs": [
    {
     "name": "stdout",
     "output_type": "stream",
     "text": [
      "informacion for: 04FEHBQ0 @E2FEV91 20170729\n",
      "4.0\n",
      "1.0\n",
      "2.1\n",
      "2.0\n",
      "informacion for: 04FEHBQ0 @E2FEV91 20170814\n",
      "434.0\n",
      "3.0\n",
      "309.1\n",
      "387.5\n"
     ]
    }
   ],
   "source": [
    "print_some_information(csv, '04FEHBQ0', '@E2FEV91', 20170729)\n",
    "print_some_information(csv, '04FEHBQ0', '@E2FEV91', 20170814)"
   ]
  },
  {
   "cell_type": "code",
   "execution_count": 165,
   "metadata": {},
   "outputs": [
    {
     "name": "stdout",
     "output_type": "stream",
     "text": [
      "informacion for: 02IF993F @E2IF994 20170912\n",
      "1.0\n",
      "0.0\n",
      "0.11232876712328767\n",
      "informacion for: 02IF993F @E2IF994 20170913\n",
      "1.0\n",
      "0.0\n",
      "0.07945205479452055\n",
      "informacion for: 02IF993F @E2IF994 20170905\n",
      "1.0\n",
      "0.0\n",
      "0.10410958904109589\n",
      "informacion for: 02IF993F @E2IF994 20170914\n",
      "1.0\n",
      "0.0\n",
      "0.05458515283842795\n"
     ]
    }
   ],
   "source": [
    "print_some_information(csv, '02IF993F', '@E2IF994', 20170912)\n",
    "print_some_information(csv, '02IF993F', '@E2IF994', 20170913)\n",
    "print_some_information(csv, '02IF993F', '@E2IF994', 20170905)\n",
    "print_some_information(csv, '02IF993F', '@E2IF994', 20170914)"
   ]
  },
  {
   "cell_type": "code",
   "execution_count": 171,
   "metadata": {},
   "outputs": [
    {
     "name": "stdout",
     "output_type": "stream",
     "text": [
      "informacion for: 02VAK69F @E2VAK69 20170908\n",
      "784.0\n",
      "9.0\n",
      "95.10238907849829\n",
      "22.0\n",
      "informacion for: 02RBFC6F @E2RF996 20170906\n",
      "1.0\n",
      "0.0\n",
      "0.06484641638225255\n",
      "0.0\n",
      "informacion for: 02RBFC6F @E2RF996 20170904\n",
      "1.0\n",
      "0.0\n",
      "0.05460750853242321\n",
      "0.0\n"
     ]
    }
   ],
   "source": [
    "print_some_information(csv, '02VAK69F', '@E2VAK69', 20170908)\n",
    "print_some_information(csv, '02RBFC6F', '@E2RF996', 20170906)\n",
    "print_some_information(csv, '02RBFC6F', '@E2RF996', 20170904)"
   ]
  },
  {
   "cell_type": "markdown",
   "metadata": {},
   "source": [
    "- Los Jobs que superan las 230 ejecuciones por dia son en mayoria jobs que tienen una duracion de 1seg como maximo\n",
    "- Existen jobs que  tienen una duracion maxima muy grande en relacion con su tiempo minimo de ejecucion"
   ]
  },
  {
   "cell_type": "code",
   "execution_count": 184,
   "metadata": {},
   "outputs": [
    {
     "data": {
      "text/plain": [
       "COMPLETE     542029\n",
       "ENDED        457786\n",
       "STARTED         175\n",
       "INPUT            10\n",
       "Name: Estado, dtype: int64"
      ]
     },
     "execution_count": 184,
     "metadata": {},
     "output_type": "execute_result"
    }
   ],
   "source": [
    "csv.Estado.value_counts()"
   ]
  },
  {
   "cell_type": "code",
   "execution_count": 189,
   "metadata": {},
   "outputs": [
    {
     "data": {
      "text/plain": [
       "(9247, 18)"
      ]
     },
     "execution_count": 189,
     "metadata": {},
     "output_type": "execute_result"
    }
   ],
   "source": [
    "csv[csv.Mxrc != 0].shape"
   ]
  },
  {
   "cell_type": "code",
   "execution_count": 190,
   "metadata": {},
   "outputs": [
    {
     "data": {
      "text/plain": [
       "(990753, 18)"
      ]
     },
     "execution_count": 190,
     "metadata": {},
     "output_type": "execute_result"
    }
   ],
   "source": [
    "csv[csv.Mxrc == 0].shape"
   ]
  },
  {
   "cell_type": "markdown",
   "metadata": {},
   "source": [
    "- Luego se observara el comportamiento de los jobs en determinadas horas del dia"
   ]
  },
  {
   "cell_type": "code",
   "execution_count": 18,
   "metadata": {},
   "outputs": [],
   "source": [
    "id_date = 20180401\n",
    "id_job = '@E2EC969'\n",
    "id_malla = '02ECLV92'"
   ]
  },
  {
   "cell_type": "code",
   "execution_count": 19,
   "metadata": {},
   "outputs": [
    {
     "data": {
      "text/plain": [
       "(10849, 21)"
      ]
     },
     "execution_count": 19,
     "metadata": {},
     "output_type": "execute_result"
    }
   ],
   "source": [
    "csv.loc[(csv.Fecha_Ejec_Inicio_Int == id_date)].shape"
   ]
  },
  {
   "cell_type": "code",
   "execution_count": 20,
   "metadata": {},
   "outputs": [
    {
     "data": {
      "text/plain": [
       "(4544, 21)"
      ]
     },
     "execution_count": 20,
     "metadata": {},
     "output_type": "execute_result"
    }
   ],
   "source": [
    "csv.loc[(csv.Fecha_Ejec_Inicio_Int == id_date) & (csv.Hora_Ejec_Inicio_Int < 21600)].shape"
   ]
  },
  {
   "cell_type": "code",
   "execution_count": 21,
   "metadata": {},
   "outputs": [
    {
     "data": {
      "text/plain": [
       "(1710, 21)"
      ]
     },
     "execution_count": 21,
     "metadata": {},
     "output_type": "execute_result"
    }
   ],
   "source": [
    "csv.loc[(csv.Fecha_Ejec_Inicio_Int == id_date) \\\n",
    "        & (csv.Hora_Ejec_Inicio_Int >= 21600)\\\n",
    "       & (csv.Hora_Ejec_Inicio_Int < 43200)].shape"
   ]
  },
  {
   "cell_type": "code",
   "execution_count": 22,
   "metadata": {},
   "outputs": [
    {
     "data": {
      "text/plain": [
       "(1526, 21)"
      ]
     },
     "execution_count": 22,
     "metadata": {},
     "output_type": "execute_result"
    }
   ],
   "source": [
    "csv.loc[(csv.Fecha_Ejec_Inicio_Int == id_date) \\\n",
    "        & (csv.Hora_Ejec_Inicio_Int >= 43200)\\\n",
    "       & (csv.Hora_Ejec_Inicio_Int < 64800)].shape"
   ]
  },
  {
   "cell_type": "code",
   "execution_count": 23,
   "metadata": {},
   "outputs": [
    {
     "data": {
      "text/plain": [
       "(3069, 21)"
      ]
     },
     "execution_count": 23,
     "metadata": {},
     "output_type": "execute_result"
    }
   ],
   "source": [
    "csv.loc[(csv.Fecha_Ejec_Inicio_Int == id_date) \\\n",
    "        & (csv.Hora_Ejec_Inicio_Int >= 64800)\\\n",
    "      ].shape"
   ]
  },
  {
   "cell_type": "markdown",
   "metadata": {},
   "source": [
    "- Se observa que para el horario de la tarde y noche se ejecutan jobs en el dia 20170726, ahora se vera si existe un mismo job que se ejecuta varias veces en un dia"
   ]
  },
  {
   "cell_type": "code",
   "execution_count": 24,
   "metadata": {},
   "outputs": [
    {
     "data": {
      "text/html": [
       "<div>\n",
       "<style scoped>\n",
       "    .dataframe tbody tr th:only-of-type {\n",
       "        vertical-align: middle;\n",
       "    }\n",
       "\n",
       "    .dataframe tbody tr th {\n",
       "        vertical-align: top;\n",
       "    }\n",
       "\n",
       "    .dataframe thead th {\n",
       "        text-align: right;\n",
       "    }\n",
       "</style>\n",
       "<table border=\"1\" class=\"dataframe\">\n",
       "  <thead>\n",
       "    <tr style=\"text-align: right;\">\n",
       "      <th></th>\n",
       "      <th>Id_Job</th>\n",
       "      <th>Id_HistoricoJob</th>\n",
       "      <th>Id_Malla</th>\n",
       "      <th>Fecha_Carga_Scheduler</th>\n",
       "      <th>Fecha_Ejec_Inicio</th>\n",
       "      <th>Fecha_Ejec_Fin</th>\n",
       "      <th>Duracion</th>\n",
       "      <th>Promedio</th>\n",
       "      <th>Agente</th>\n",
       "      <th>Mxrc</th>\n",
       "      <th>...</th>\n",
       "      <th>Grupo</th>\n",
       "      <th>Force_Complete</th>\n",
       "      <th>CCF</th>\n",
       "      <th>Estado</th>\n",
       "      <th>duracion_int</th>\n",
       "      <th>promedio_int</th>\n",
       "      <th>Fecha_Ejec_Inicio_Int</th>\n",
       "      <th>Hora_Ejec_Inicio_Int</th>\n",
       "      <th>Fecha_Ejec_Fin_Int</th>\n",
       "      <th>Hora_Ejec_Fin_Int</th>\n",
       "    </tr>\n",
       "  </thead>\n",
       "  <tbody>\n",
       "    <tr>\n",
       "      <th>1412</th>\n",
       "      <td>@E2IF994</td>\n",
       "      <td>730</td>\n",
       "      <td>730</td>\n",
       "      <td>730</td>\n",
       "      <td>730</td>\n",
       "      <td>730</td>\n",
       "      <td>730</td>\n",
       "      <td>730</td>\n",
       "      <td>730</td>\n",
       "      <td>730</td>\n",
       "      <td>...</td>\n",
       "      <td>730</td>\n",
       "      <td>730</td>\n",
       "      <td>730</td>\n",
       "      <td>730</td>\n",
       "      <td>730</td>\n",
       "      <td>0</td>\n",
       "      <td>730</td>\n",
       "      <td>730</td>\n",
       "      <td>730</td>\n",
       "      <td>730</td>\n",
       "    </tr>\n",
       "    <tr>\n",
       "      <th>2919</th>\n",
       "      <td>@E2QD984</td>\n",
       "      <td>147</td>\n",
       "      <td>147</td>\n",
       "      <td>147</td>\n",
       "      <td>147</td>\n",
       "      <td>147</td>\n",
       "      <td>147</td>\n",
       "      <td>147</td>\n",
       "      <td>147</td>\n",
       "      <td>147</td>\n",
       "      <td>...</td>\n",
       "      <td>147</td>\n",
       "      <td>147</td>\n",
       "      <td>147</td>\n",
       "      <td>147</td>\n",
       "      <td>147</td>\n",
       "      <td>0</td>\n",
       "      <td>147</td>\n",
       "      <td>147</td>\n",
       "      <td>147</td>\n",
       "      <td>147</td>\n",
       "    </tr>\n",
       "    <tr>\n",
       "      <th>2918</th>\n",
       "      <td>@E2QD982</td>\n",
       "      <td>146</td>\n",
       "      <td>146</td>\n",
       "      <td>146</td>\n",
       "      <td>146</td>\n",
       "      <td>146</td>\n",
       "      <td>146</td>\n",
       "      <td>146</td>\n",
       "      <td>146</td>\n",
       "      <td>146</td>\n",
       "      <td>...</td>\n",
       "      <td>146</td>\n",
       "      <td>146</td>\n",
       "      <td>146</td>\n",
       "      <td>146</td>\n",
       "      <td>146</td>\n",
       "      <td>0</td>\n",
       "      <td>146</td>\n",
       "      <td>146</td>\n",
       "      <td>146</td>\n",
       "      <td>146</td>\n",
       "    </tr>\n",
       "    <tr>\n",
       "      <th>2838</th>\n",
       "      <td>@E2MQN92</td>\n",
       "      <td>146</td>\n",
       "      <td>146</td>\n",
       "      <td>146</td>\n",
       "      <td>146</td>\n",
       "      <td>146</td>\n",
       "      <td>146</td>\n",
       "      <td>146</td>\n",
       "      <td>146</td>\n",
       "      <td>146</td>\n",
       "      <td>...</td>\n",
       "      <td>146</td>\n",
       "      <td>146</td>\n",
       "      <td>146</td>\n",
       "      <td>146</td>\n",
       "      <td>146</td>\n",
       "      <td>0</td>\n",
       "      <td>146</td>\n",
       "      <td>146</td>\n",
       "      <td>146</td>\n",
       "      <td>146</td>\n",
       "    </tr>\n",
       "    <tr>\n",
       "      <th>2840</th>\n",
       "      <td>@E2MQN97</td>\n",
       "      <td>146</td>\n",
       "      <td>146</td>\n",
       "      <td>146</td>\n",
       "      <td>146</td>\n",
       "      <td>146</td>\n",
       "      <td>146</td>\n",
       "      <td>146</td>\n",
       "      <td>146</td>\n",
       "      <td>146</td>\n",
       "      <td>...</td>\n",
       "      <td>146</td>\n",
       "      <td>146</td>\n",
       "      <td>146</td>\n",
       "      <td>146</td>\n",
       "      <td>146</td>\n",
       "      <td>146</td>\n",
       "      <td>146</td>\n",
       "      <td>146</td>\n",
       "      <td>146</td>\n",
       "      <td>146</td>\n",
       "    </tr>\n",
       "  </tbody>\n",
       "</table>\n",
       "<p>5 rows × 21 columns</p>\n",
       "</div>"
      ],
      "text/plain": [
       "        Id_Job  Id_HistoricoJob  Id_Malla  Fecha_Carga_Scheduler  \\\n",
       "1412  @E2IF994              730       730                    730   \n",
       "2919  @E2QD984              147       147                    147   \n",
       "2918  @E2QD982              146       146                    146   \n",
       "2838  @E2MQN92              146       146                    146   \n",
       "2840  @E2MQN97              146       146                    146   \n",
       "\n",
       "      Fecha_Ejec_Inicio  Fecha_Ejec_Fin  Duracion  Promedio  Agente  Mxrc  \\\n",
       "1412                730             730       730       730     730   730   \n",
       "2919                147             147       147       147     147   147   \n",
       "2918                146             146       146       146     146   146   \n",
       "2838                146             146       146       146     146   146   \n",
       "2840                146             146       146       146     146   146   \n",
       "\n",
       "            ...          Grupo  Force_Complete  CCF  Estado  duracion_int  \\\n",
       "1412        ...            730             730  730     730           730   \n",
       "2919        ...            147             147  147     147           147   \n",
       "2918        ...            146             146  146     146           146   \n",
       "2838        ...            146             146  146     146           146   \n",
       "2840        ...            146             146  146     146           146   \n",
       "\n",
       "      promedio_int  Fecha_Ejec_Inicio_Int  Hora_Ejec_Inicio_Int  \\\n",
       "1412             0                    730                   730   \n",
       "2919             0                    147                   147   \n",
       "2918             0                    146                   146   \n",
       "2838             0                    146                   146   \n",
       "2840           146                    146                   146   \n",
       "\n",
       "      Fecha_Ejec_Fin_Int  Hora_Ejec_Fin_Int  \n",
       "1412                 730                730  \n",
       "2919                 147                147  \n",
       "2918                 146                146  \n",
       "2838                 146                146  \n",
       "2840                 146                146  \n",
       "\n",
       "[5 rows x 21 columns]"
      ]
     },
     "execution_count": 24,
     "metadata": {},
     "output_type": "execute_result"
    }
   ],
   "source": [
    "csv[csv.Fecha_Ejec_Inicio_Int == id_date].groupby(['Id_Job']).count().reset_index().sort_values('Id_Malla', ascending=False).head()"
   ]
  },
  {
   "cell_type": "code",
   "execution_count": 25,
   "metadata": {},
   "outputs": [
    {
     "data": {
      "text/plain": [
       "(7, 21)"
      ]
     },
     "execution_count": 25,
     "metadata": {},
     "output_type": "execute_result"
    }
   ],
   "source": [
    "csv.loc[(csv.Fecha_Ejec_Inicio_Int == id_date) \\\n",
    "        & (csv.Hora_Ejec_Inicio_Int >= 43200)\\\n",
    "       & (csv.Hora_Ejec_Inicio_Int < 64800)\\\n",
    "       & (csv.Id_Job == id_job)].shape"
   ]
  },
  {
   "cell_type": "code",
   "execution_count": 26,
   "metadata": {},
   "outputs": [
    {
     "data": {
      "text/plain": [
       "(5, 21)"
      ]
     },
     "execution_count": 26,
     "metadata": {},
     "output_type": "execute_result"
    }
   ],
   "source": [
    "csv.loc[(csv.Fecha_Ejec_Inicio_Int == id_date) \\\n",
    "        & (csv.Hora_Ejec_Inicio_Int >= 64800)\\\n",
    "        & (csv.Id_Job == id_job)].shape"
   ]
  },
  {
   "cell_type": "code",
   "execution_count": 27,
   "metadata": {},
   "outputs": [
    {
     "data": {
      "text/plain": [
       "(Id_Job\n",
       " @E2EC969    3.6\n",
       " Name: duracion_int, dtype: float64, Id_Job\n",
       " @E2EC969    4.0\n",
       " Name: duracion_int, dtype: float64)"
      ]
     },
     "execution_count": 27,
     "metadata": {},
     "output_type": "execute_result"
    }
   ],
   "source": [
    "csv.loc[(csv.Fecha_Ejec_Inicio_Int == id_date) \\\n",
    "        & (csv.Hora_Ejec_Inicio_Int >= 64800)\\\n",
    "        & (csv.Id_Job == id_job)].groupby('Id_Job').mean().duracion_int, \\\n",
    "csv.loc[(csv.Fecha_Ejec_Inicio_Int == id_date) \\\n",
    "        & (csv.Hora_Ejec_Inicio_Int >= 64800)\\\n",
    "        & (csv.Id_Job == id_job)].groupby('Id_Job').median().duracion_int"
   ]
  },
  {
   "cell_type": "code",
   "execution_count": 28,
   "metadata": {},
   "outputs": [
    {
     "data": {
      "text/plain": [
       "(Series([], Name: duracion_int, dtype: float64),\n",
       " Series([], Name: duracion_int, dtype: float64))"
      ]
     },
     "execution_count": 28,
     "metadata": {},
     "output_type": "execute_result"
    }
   ],
   "source": [
    "csv.loc[(csv.Fecha_Ejec_Inicio_Int == 20170726) \\\n",
    "        & (csv.Hora_Ejec_Inicio_Int >= 43200)\\\n",
    "       & (csv.Hora_Ejec_Inicio_Int < 64800)\\\n",
    "        & (csv.Id_Job == id_job)].groupby('Id_Job').mean().duracion_int, \\\n",
    "csv.loc[(csv.Fecha_Ejec_Inicio_Int == 20170726) \\\n",
    "        & (csv.Hora_Ejec_Inicio_Int >= 43200)\\\n",
    "       & (csv.Hora_Ejec_Inicio_Int < 64800)\\\n",
    "        & (csv.Id_Job == id_job)].groupby('Id_Job').median().duracion_int"
   ]
  },
  {
   "cell_type": "markdown",
   "metadata": {},
   "source": [
    "- Se observara si existe sobrecarga en los servidores y por eso algunas veces se ejecutan mas rapidos que otras veces"
   ]
  },
  {
   "cell_type": "code",
   "execution_count": 115,
   "metadata": {},
   "outputs": [
    {
     "data": {
      "text/html": [
       "<div>\n",
       "<style scoped>\n",
       "    .dataframe tbody tr th:only-of-type {\n",
       "        vertical-align: middle;\n",
       "    }\n",
       "\n",
       "    .dataframe tbody tr th {\n",
       "        vertical-align: top;\n",
       "    }\n",
       "\n",
       "    .dataframe thead th {\n",
       "        text-align: right;\n",
       "    }\n",
       "</style>\n",
       "<table border=\"1\" class=\"dataframe\">\n",
       "  <thead>\n",
       "    <tr style=\"text-align: right;\">\n",
       "      <th></th>\n",
       "      <th>Id_HistoricoJob</th>\n",
       "      <th>Id_Job</th>\n",
       "      <th>Id_Malla</th>\n",
       "      <th>Fecha_Carga_Scheduler</th>\n",
       "      <th>Fecha_Ejec_Inicio</th>\n",
       "      <th>Fecha_Ejec_Fin</th>\n",
       "      <th>Duracion</th>\n",
       "      <th>Promedio</th>\n",
       "      <th>Agente</th>\n",
       "      <th>Mxrc</th>\n",
       "      <th>...</th>\n",
       "      <th>Grupo</th>\n",
       "      <th>Force_Complete</th>\n",
       "      <th>CCF</th>\n",
       "      <th>Estado</th>\n",
       "      <th>duracion_int</th>\n",
       "      <th>promedio_int</th>\n",
       "      <th>Fecha_Ejec_Inicio_Int</th>\n",
       "      <th>Hora_Ejec_Inicio_Int</th>\n",
       "      <th>Fecha_Ejec_Fin_Int</th>\n",
       "      <th>Hora_Ejec_Fin_Int</th>\n",
       "    </tr>\n",
       "  </thead>\n",
       "  <tbody>\n",
       "    <tr>\n",
       "      <th>0</th>\n",
       "      <td>4559926</td>\n",
       "      <td>@E2SM299</td>\n",
       "      <td>02SM299F</td>\n",
       "      <td>2017-12-16 22:40:00</td>\n",
       "      <td>2017-12-16 22:40:00</td>\n",
       "      <td>2017-12-16 22:40:02</td>\n",
       "      <td>2</td>\n",
       "      <td>1M00</td>\n",
       "      <td>77</td>\n",
       "      <td>0</td>\n",
       "      <td>...</td>\n",
       "      <td>2</td>\n",
       "      <td>0</td>\n",
       "      <td>0</td>\n",
       "      <td>0</td>\n",
       "      <td>2.0</td>\n",
       "      <td>60.0</td>\n",
       "      <td>20171216.0</td>\n",
       "      <td>81600.0</td>\n",
       "      <td>20171216.0</td>\n",
       "      <td>81602.0</td>\n",
       "    </tr>\n",
       "    <tr>\n",
       "      <th>1</th>\n",
       "      <td>4559927</td>\n",
       "      <td>@E2SM299</td>\n",
       "      <td>02SM299F</td>\n",
       "      <td>2017-12-16 22:20:00</td>\n",
       "      <td>2017-12-16 22:20:00</td>\n",
       "      <td>2017-12-16 22:20:02</td>\n",
       "      <td>2</td>\n",
       "      <td>-</td>\n",
       "      <td>77</td>\n",
       "      <td>0</td>\n",
       "      <td>...</td>\n",
       "      <td>2</td>\n",
       "      <td>0</td>\n",
       "      <td>0</td>\n",
       "      <td>0</td>\n",
       "      <td>2.0</td>\n",
       "      <td>NaN</td>\n",
       "      <td>20171216.0</td>\n",
       "      <td>80400.0</td>\n",
       "      <td>20171216.0</td>\n",
       "      <td>80402.0</td>\n",
       "    </tr>\n",
       "    <tr>\n",
       "      <th>2</th>\n",
       "      <td>4559928</td>\n",
       "      <td>@E2SM299</td>\n",
       "      <td>02SM299F</td>\n",
       "      <td>2017-12-16 22:00:00</td>\n",
       "      <td>2017-12-16 22:00:01</td>\n",
       "      <td>2017-12-16 22:00:05</td>\n",
       "      <td>4</td>\n",
       "      <td>-</td>\n",
       "      <td>77</td>\n",
       "      <td>0</td>\n",
       "      <td>...</td>\n",
       "      <td>2</td>\n",
       "      <td>0</td>\n",
       "      <td>0</td>\n",
       "      <td>0</td>\n",
       "      <td>4.0</td>\n",
       "      <td>NaN</td>\n",
       "      <td>20171216.0</td>\n",
       "      <td>79201.0</td>\n",
       "      <td>20171216.0</td>\n",
       "      <td>79205.0</td>\n",
       "    </tr>\n",
       "    <tr>\n",
       "      <th>3</th>\n",
       "      <td>4559929</td>\n",
       "      <td>@E2SM299</td>\n",
       "      <td>02SM299F</td>\n",
       "      <td>2017-12-16 21:40:00</td>\n",
       "      <td>2017-12-16 21:40:00</td>\n",
       "      <td>2017-12-16 21:40:02</td>\n",
       "      <td>2</td>\n",
       "      <td>1M00</td>\n",
       "      <td>77</td>\n",
       "      <td>0</td>\n",
       "      <td>...</td>\n",
       "      <td>2</td>\n",
       "      <td>0</td>\n",
       "      <td>0</td>\n",
       "      <td>0</td>\n",
       "      <td>2.0</td>\n",
       "      <td>60.0</td>\n",
       "      <td>20171216.0</td>\n",
       "      <td>78000.0</td>\n",
       "      <td>20171216.0</td>\n",
       "      <td>78002.0</td>\n",
       "    </tr>\n",
       "    <tr>\n",
       "      <th>4</th>\n",
       "      <td>4559930</td>\n",
       "      <td>@E2SM299</td>\n",
       "      <td>02SM299F</td>\n",
       "      <td>2017-12-16 21:20:00</td>\n",
       "      <td>2017-12-16 21:20:00</td>\n",
       "      <td>2017-12-16 21:20:04</td>\n",
       "      <td>4</td>\n",
       "      <td>-</td>\n",
       "      <td>77</td>\n",
       "      <td>0</td>\n",
       "      <td>...</td>\n",
       "      <td>2</td>\n",
       "      <td>0</td>\n",
       "      <td>0</td>\n",
       "      <td>0</td>\n",
       "      <td>4.0</td>\n",
       "      <td>NaN</td>\n",
       "      <td>20171216.0</td>\n",
       "      <td>76800.0</td>\n",
       "      <td>20171216.0</td>\n",
       "      <td>76804.0</td>\n",
       "    </tr>\n",
       "  </tbody>\n",
       "</table>\n",
       "<p>5 rows × 21 columns</p>\n",
       "</div>"
      ],
      "text/plain": [
       "   Id_HistoricoJob    Id_Job  Id_Malla Fecha_Carga_Scheduler  \\\n",
       "0          4559926  @E2SM299  02SM299F   2017-12-16 22:40:00   \n",
       "1          4559927  @E2SM299  02SM299F   2017-12-16 22:20:00   \n",
       "2          4559928  @E2SM299  02SM299F   2017-12-16 22:00:00   \n",
       "3          4559929  @E2SM299  02SM299F   2017-12-16 21:40:00   \n",
       "4          4559930  @E2SM299  02SM299F   2017-12-16 21:20:00   \n",
       "\n",
       "     Fecha_Ejec_Inicio       Fecha_Ejec_Fin Duracion Promedio  Agente  Mxrc  \\\n",
       "0  2017-12-16 22:40:00  2017-12-16 22:40:02        2     1M00      77     0   \n",
       "1  2017-12-16 22:20:00  2017-12-16 22:20:02        2        -      77     0   \n",
       "2  2017-12-16 22:00:01  2017-12-16 22:00:05        4        -      77     0   \n",
       "3  2017-12-16 21:40:00  2017-12-16 21:40:02        2     1M00      77     0   \n",
       "4  2017-12-16 21:20:00  2017-12-16 21:20:04        4        -      77     0   \n",
       "\n",
       "         ...          Grupo  Force_Complete  CCF  Estado  duracion_int  \\\n",
       "0        ...              2               0    0       0           2.0   \n",
       "1        ...              2               0    0       0           2.0   \n",
       "2        ...              2               0    0       0           4.0   \n",
       "3        ...              2               0    0       0           2.0   \n",
       "4        ...              2               0    0       0           4.0   \n",
       "\n",
       "   promedio_int  Fecha_Ejec_Inicio_Int  Hora_Ejec_Inicio_Int  \\\n",
       "0          60.0             20171216.0               81600.0   \n",
       "1           NaN             20171216.0               80400.0   \n",
       "2           NaN             20171216.0               79201.0   \n",
       "3          60.0             20171216.0               78000.0   \n",
       "4           NaN             20171216.0               76800.0   \n",
       "\n",
       "   Fecha_Ejec_Fin_Int  Hora_Ejec_Fin_Int  \n",
       "0          20171216.0            81602.0  \n",
       "1          20171216.0            80402.0  \n",
       "2          20171216.0            79205.0  \n",
       "3          20171216.0            78002.0  \n",
       "4          20171216.0            76804.0  \n",
       "\n",
       "[5 rows x 21 columns]"
      ]
     },
     "execution_count": 115,
     "metadata": {},
     "output_type": "execute_result"
    }
   ],
   "source": [
    "csv.groupby()"
   ]
  },
  {
   "cell_type": "code",
   "execution_count": 159,
   "metadata": {},
   "outputs": [],
   "source": [
    "id_date = 20180401\n",
    "# id_job = '@E2EC969'\n",
    "# id_malla = '02ECLV92'\n",
    "id_job = '@E2FEV91'\n",
    "id_malla = '04FEHBQ0'"
   ]
  },
  {
   "cell_type": "code",
   "execution_count": 148,
   "metadata": {},
   "outputs": [
    {
     "data": {
      "text/plain": [
       "793.0"
      ]
     },
     "execution_count": 148,
     "metadata": {},
     "output_type": "execute_result"
    }
   ],
   "source": [
    "csv[(csv.Id_Job == id_job) & (csv.Id_Malla == id_malla)].duracion_int.max()"
   ]
  },
  {
   "cell_type": "code",
   "execution_count": 149,
   "metadata": {},
   "outputs": [
    {
     "data": {
      "text/plain": [
       "1.0"
      ]
     },
     "execution_count": 149,
     "metadata": {},
     "output_type": "execute_result"
    }
   ],
   "source": [
    "csv[(csv.Id_Job == id_job) & (csv.Id_Malla == id_malla)].duracion_int.min()"
   ]
  },
  {
   "cell_type": "code",
   "execution_count": 29,
   "metadata": {},
   "outputs": [
    {
     "data": {
      "text/plain": [
       "894.0"
      ]
     },
     "execution_count": 29,
     "metadata": {},
     "output_type": "execute_result"
    }
   ],
   "source": [
    "csv[(csv.Id_Job == id_job) & (csv.Id_Malla == id_malla)].duracion_int.max()"
   ]
  },
  {
   "cell_type": "code",
   "execution_count": 30,
   "metadata": {},
   "outputs": [
    {
     "data": {
      "text/plain": [
       "2.0"
      ]
     },
     "execution_count": 30,
     "metadata": {},
     "output_type": "execute_result"
    }
   ],
   "source": [
    "csv[(csv.Id_Job == id_job) & (csv.Id_Malla == id_malla)].duracion_int.min()"
   ]
  },
  {
   "cell_type": "code",
   "execution_count": 166,
   "metadata": {},
   "outputs": [],
   "source": [
    "from datetime import date, timedelta\n",
    "\n",
    "day = int(id_date % 100)\n",
    "month = int(int(id_date / 100) % 100)\n",
    "year = int(id_date / 10000)\n",
    "start_date = int((date(year, month, day) - timedelta(days=7*(2))).strftime('%Y%m%d'))\n",
    "    \n",
    "actual_date = id_date\n",
    "\n",
    "temp_id = csv.loc[(csv['Fecha_Ejec_Inicio_Int'] >= start_date) &\\\n",
    "                        (csv['Fecha_Ejec_Inicio_Int'] < actual_date) &\\\n",
    "                        (csv['Mxrc'] == 0) &\\\n",
    "                        (csv['Id_Job'] == id_job)]\n",
    "\n"
   ]
  },
  {
   "cell_type": "code",
   "execution_count": 170,
   "metadata": {},
   "outputs": [],
   "source": [
    "temp_id = temp_id.loc[temp_id['Fecha_Ejec_Inicio_Int'] == 20180322].reset_index()\\\n",
    "            [['Fecha_Ejec_Inicio_Int', 'Hora_Ejec_Inicio_Int', 'Hora_Ejec_Fin_Int', 'duracion_int']]\n",
    "\n",
    "temp = csv.loc[(csv['Fecha_Ejec_Inicio_Int'] == 20180322) &\\\n",
    "       (csv['Hora_Ejec_Inicio_Int'] >= 3000) &\\\n",
    "       (csv['Hora_Ejec_Inicio_Int'] <= 80100)]\\\n",
    "            [['Fecha_Ejec_Inicio_Int', 'Id_Job', 'Hora_Ejec_Inicio_Int', 'Hora_Ejec_Fin_Int', 'duracion_int']]"
   ]
  },
  {
   "cell_type": "code",
   "execution_count": 171,
   "metadata": {},
   "outputs": [
    {
     "data": {
      "text/html": [
       "<div>\n",
       "<style scoped>\n",
       "    .dataframe tbody tr th:only-of-type {\n",
       "        vertical-align: middle;\n",
       "    }\n",
       "\n",
       "    .dataframe tbody tr th {\n",
       "        vertical-align: top;\n",
       "    }\n",
       "\n",
       "    .dataframe thead th {\n",
       "        text-align: right;\n",
       "    }\n",
       "</style>\n",
       "<table border=\"1\" class=\"dataframe\">\n",
       "  <thead>\n",
       "    <tr style=\"text-align: right;\">\n",
       "      <th></th>\n",
       "      <th>Fecha_Ejec_Inicio_Int</th>\n",
       "      <th>Hora_Ejec_Inicio_Int</th>\n",
       "      <th>Hora_Ejec_Fin_Int</th>\n",
       "      <th>duracion_int</th>\n",
       "    </tr>\n",
       "  </thead>\n",
       "  <tbody>\n",
       "    <tr>\n",
       "      <th>0</th>\n",
       "      <td>20180322.0</td>\n",
       "      <td>15278.0</td>\n",
       "      <td>15457.0</td>\n",
       "      <td>178.0</td>\n",
       "    </tr>\n",
       "    <tr>\n",
       "      <th>1</th>\n",
       "      <td>20180322.0</td>\n",
       "      <td>11143.0</td>\n",
       "      <td>11149.0</td>\n",
       "      <td>6.0</td>\n",
       "    </tr>\n",
       "    <tr>\n",
       "      <th>2</th>\n",
       "      <td>20180322.0</td>\n",
       "      <td>7538.0</td>\n",
       "      <td>7541.0</td>\n",
       "      <td>3.0</td>\n",
       "    </tr>\n",
       "    <tr>\n",
       "      <th>3</th>\n",
       "      <td>20180322.0</td>\n",
       "      <td>3932.0</td>\n",
       "      <td>3935.0</td>\n",
       "      <td>3.0</td>\n",
       "    </tr>\n",
       "    <tr>\n",
       "      <th>4</th>\n",
       "      <td>20180322.0</td>\n",
       "      <td>49432.0</td>\n",
       "      <td>49858.0</td>\n",
       "      <td>426.0</td>\n",
       "    </tr>\n",
       "    <tr>\n",
       "      <th>5</th>\n",
       "      <td>20180322.0</td>\n",
       "      <td>45159.0</td>\n",
       "      <td>45610.0</td>\n",
       "      <td>450.0</td>\n",
       "    </tr>\n",
       "    <tr>\n",
       "      <th>6</th>\n",
       "      <td>20180322.0</td>\n",
       "      <td>40894.0</td>\n",
       "      <td>41337.0</td>\n",
       "      <td>442.0</td>\n",
       "    </tr>\n",
       "    <tr>\n",
       "      <th>7</th>\n",
       "      <td>20180322.0</td>\n",
       "      <td>36635.0</td>\n",
       "      <td>37063.0</td>\n",
       "      <td>427.0</td>\n",
       "    </tr>\n",
       "    <tr>\n",
       "      <th>8</th>\n",
       "      <td>20180322.0</td>\n",
       "      <td>32374.0</td>\n",
       "      <td>32816.0</td>\n",
       "      <td>441.0</td>\n",
       "    </tr>\n",
       "    <tr>\n",
       "      <th>9</th>\n",
       "      <td>20180322.0</td>\n",
       "      <td>28159.0</td>\n",
       "      <td>28559.0</td>\n",
       "      <td>399.0</td>\n",
       "    </tr>\n",
       "    <tr>\n",
       "      <th>10</th>\n",
       "      <td>20180322.0</td>\n",
       "      <td>23945.0</td>\n",
       "      <td>24355.0</td>\n",
       "      <td>409.0</td>\n",
       "    </tr>\n",
       "    <tr>\n",
       "      <th>11</th>\n",
       "      <td>20180322.0</td>\n",
       "      <td>19739.0</td>\n",
       "      <td>20137.0</td>\n",
       "      <td>397.0</td>\n",
       "    </tr>\n",
       "    <tr>\n",
       "      <th>12</th>\n",
       "      <td>20180322.0</td>\n",
       "      <td>82449.0</td>\n",
       "      <td>82905.0</td>\n",
       "      <td>456.0</td>\n",
       "    </tr>\n",
       "    <tr>\n",
       "      <th>13</th>\n",
       "      <td>20180322.0</td>\n",
       "      <td>76992.0</td>\n",
       "      <td>77409.0</td>\n",
       "      <td>416.0</td>\n",
       "    </tr>\n",
       "    <tr>\n",
       "      <th>14</th>\n",
       "      <td>20180322.0</td>\n",
       "      <td>72759.0</td>\n",
       "      <td>73170.0</td>\n",
       "      <td>411.0</td>\n",
       "    </tr>\n",
       "    <tr>\n",
       "      <th>15</th>\n",
       "      <td>20180322.0</td>\n",
       "      <td>68519.0</td>\n",
       "      <td>68936.0</td>\n",
       "      <td>417.0</td>\n",
       "    </tr>\n",
       "    <tr>\n",
       "      <th>16</th>\n",
       "      <td>20180322.0</td>\n",
       "      <td>64265.0</td>\n",
       "      <td>64697.0</td>\n",
       "      <td>432.0</td>\n",
       "    </tr>\n",
       "    <tr>\n",
       "      <th>17</th>\n",
       "      <td>20180322.0</td>\n",
       "      <td>59979.0</td>\n",
       "      <td>60443.0</td>\n",
       "      <td>463.0</td>\n",
       "    </tr>\n",
       "    <tr>\n",
       "      <th>18</th>\n",
       "      <td>20180322.0</td>\n",
       "      <td>55720.0</td>\n",
       "      <td>56158.0</td>\n",
       "      <td>438.0</td>\n",
       "    </tr>\n",
       "  </tbody>\n",
       "</table>\n",
       "</div>"
      ],
      "text/plain": [
       "    Fecha_Ejec_Inicio_Int  Hora_Ejec_Inicio_Int  Hora_Ejec_Fin_Int  \\\n",
       "0              20180322.0               15278.0            15457.0   \n",
       "1              20180322.0               11143.0            11149.0   \n",
       "2              20180322.0                7538.0             7541.0   \n",
       "3              20180322.0                3932.0             3935.0   \n",
       "4              20180322.0               49432.0            49858.0   \n",
       "5              20180322.0               45159.0            45610.0   \n",
       "6              20180322.0               40894.0            41337.0   \n",
       "7              20180322.0               36635.0            37063.0   \n",
       "8              20180322.0               32374.0            32816.0   \n",
       "9              20180322.0               28159.0            28559.0   \n",
       "10             20180322.0               23945.0            24355.0   \n",
       "11             20180322.0               19739.0            20137.0   \n",
       "12             20180322.0               82449.0            82905.0   \n",
       "13             20180322.0               76992.0            77409.0   \n",
       "14             20180322.0               72759.0            73170.0   \n",
       "15             20180322.0               68519.0            68936.0   \n",
       "16             20180322.0               64265.0            64697.0   \n",
       "17             20180322.0               59979.0            60443.0   \n",
       "18             20180322.0               55720.0            56158.0   \n",
       "\n",
       "    duracion_int  \n",
       "0          178.0  \n",
       "1            6.0  \n",
       "2            3.0  \n",
       "3            3.0  \n",
       "4          426.0  \n",
       "5          450.0  \n",
       "6          442.0  \n",
       "7          427.0  \n",
       "8          441.0  \n",
       "9          399.0  \n",
       "10         409.0  \n",
       "11         397.0  \n",
       "12         456.0  \n",
       "13         416.0  \n",
       "14         411.0  \n",
       "15         417.0  \n",
       "16         432.0  \n",
       "17         463.0  \n",
       "18         438.0  "
      ]
     },
     "execution_count": 171,
     "metadata": {},
     "output_type": "execute_result"
    }
   ],
   "source": [
    "temp_id"
   ]
  },
  {
   "cell_type": "code",
   "execution_count": 172,
   "metadata": {},
   "outputs": [],
   "source": [
    "count_df = pd.DataFrame(list(range(3000, 80100)), columns=['time'])"
   ]
  },
  {
   "cell_type": "code",
   "execution_count": 173,
   "metadata": {},
   "outputs": [],
   "source": [
    "def find_count_process(time, temp):\n",
    "    return temp.loc[(temp['Hora_Ejec_Inicio_Int'] <= time) & (temp['Hora_Ejec_Fin_Int'] >= time)].shape[0]"
   ]
  },
  {
   "cell_type": "code",
   "execution_count": 174,
   "metadata": {},
   "outputs": [],
   "source": [
    "count_df['count_process'] = count_df.apply(lambda row: find_count_process(row['time'], temp), axis=1)"
   ]
  },
  {
   "cell_type": "code",
   "execution_count": 175,
   "metadata": {},
   "outputs": [],
   "source": [
    "def find_time_process(time, temp):\n",
    "    s = temp.loc[(temp['Hora_Ejec_Inicio_Int'] <= time) & (temp['Hora_Ejec_Fin_Int'] >= time)].reset_index()\n",
    "    if s.shape[0] > 0:\n",
    "        return s.duracion_int[0]\n",
    "    else:\n",
    "        return np.nan\n"
   ]
  },
  {
   "cell_type": "code",
   "execution_count": 176,
   "metadata": {},
   "outputs": [],
   "source": [
    "count_df['process_sec'] = count_df.apply(lambda row: find_time_process(row['time'], temp_id), axis=1)"
   ]
  },
  {
   "cell_type": "code",
   "execution_count": 177,
   "metadata": {},
   "outputs": [],
   "source": [
    "def find_total_time(time, temp):\n",
    "    return temp.loc[(temp['Hora_Ejec_Inicio_Int'] <= time) & (temp['Hora_Ejec_Fin_Int'] >= time)].duracion_int.sum()"
   ]
  },
  {
   "cell_type": "code",
   "execution_count": 178,
   "metadata": {},
   "outputs": [],
   "source": [
    "count_df['process_total'] = count_df.apply(lambda row: find_total_time(row['time'], temp), axis=1)"
   ]
  },
  {
   "cell_type": "code",
   "execution_count": 179,
   "metadata": {},
   "outputs": [
    {
     "data": {
      "image/png": "[encoded data removed]",
      "text/plain": [
       "<matplotlib.figure.Figure at 0x7efd02f70f28>"
      ]
     },
     "metadata": {},
     "output_type": "display_data"
    }
   ],
   "source": [
    "import matplotlib.pyplot as plt\n",
    "\n",
    "plt.figure(figsize=(20,10))\n",
    "p1 = plt.bar(count_df.time, count_df.count_process, 0.8)\n",
    "p2 = plt.plot(count_df.time, count_df.process_sec, 'ro')\n",
    "plt.show()"
   ]
  },
  {
   "cell_type": "code",
   "execution_count": 182,
   "metadata": {},
   "outputs": [
    {
     "data": {
      "image/png": "[encoded data removed]",
      "text/plain": [
       "<matplotlib.figure.Figure at 0x7efcfe03a208>"
      ]
     },
     "metadata": {},
     "output_type": "display_data"
    }
   ],
   "source": [
    "import matplotlib.pyplot as plt\n",
    "\n",
    "plt.figure(figsize=(20,10))\n",
    "p1 = plt.bar(count_df.time, count_df.process_total, 0.8)\n",
    "p2 = plt.plot(count_df.time, count_df.process_sec*1000, 'ro')\n",
    "plt.show()"
   ]
  },
  {
   "cell_type": "markdown",
   "metadata": {},
   "source": [
    "# Correlaciones"
   ]
  },
  {
   "cell_type": "code",
   "execution_count": 19,
   "metadata": {
    "collapsed": true
   },
   "outputs": [],
   "source": [
    "from sklearn.preprocessing import StandardScaler\n",
    "# Scaling data over ordinal variables\n",
    "\n",
    "sc = StandardScaler()\n",
    "csv[['duracion_int', 'promedio_int']] = sc.fit_transform(csv[['duracion_int', 'promedio_int']])"
   ]
  },
  {
   "cell_type": "code",
   "execution_count": 20,
   "metadata": {},
   "outputs": [
    {
     "data": {
      "text/html": [
       "<div>\n",
       "<style>\n",
       "    .dataframe thead tr:only-child th {\n",
       "        text-align: right;\n",
       "    }\n",
       "\n",
       "    .dataframe thead th {\n",
       "        text-align: left;\n",
       "    }\n",
       "\n",
       "    .dataframe tbody tr th {\n",
       "        vertical-align: top;\n",
       "    }\n",
       "</style>\n",
       "<table border=\"1\" class=\"dataframe\">\n",
       "  <thead>\n",
       "    <tr style=\"text-align: right;\">\n",
       "      <th></th>\n",
       "      <th>DiaSemanaEjecProgramada</th>\n",
       "      <th>TipoAgente</th>\n",
       "      <th>DiaSemanaEjecInicio</th>\n",
       "      <th>Force_Complete</th>\n",
       "      <th>Estado</th>\n",
       "      <th>EjecucionFeriado</th>\n",
       "      <th>duracion_int</th>\n",
       "      <th>promedio_int</th>\n",
       "    </tr>\n",
       "  </thead>\n",
       "  <tbody>\n",
       "    <tr>\n",
       "      <th>0</th>\n",
       "      <td>1</td>\n",
       "      <td>1</td>\n",
       "      <td>1</td>\n",
       "      <td>1</td>\n",
       "      <td>0</td>\n",
       "      <td>0</td>\n",
       "      <td>2.974465</td>\n",
       "      <td>-0.28525</td>\n",
       "    </tr>\n",
       "    <tr>\n",
       "      <th>1</th>\n",
       "      <td>1</td>\n",
       "      <td>1</td>\n",
       "      <td>1</td>\n",
       "      <td>0</td>\n",
       "      <td>0</td>\n",
       "      <td>0</td>\n",
       "      <td>-0.228048</td>\n",
       "      <td>-0.28525</td>\n",
       "    </tr>\n",
       "    <tr>\n",
       "      <th>2</th>\n",
       "      <td>1</td>\n",
       "      <td>1</td>\n",
       "      <td>1</td>\n",
       "      <td>0</td>\n",
       "      <td>0</td>\n",
       "      <td>0</td>\n",
       "      <td>-0.133856</td>\n",
       "      <td>-0.28525</td>\n",
       "    </tr>\n",
       "    <tr>\n",
       "      <th>3</th>\n",
       "      <td>1</td>\n",
       "      <td>1</td>\n",
       "      <td>1</td>\n",
       "      <td>0</td>\n",
       "      <td>0</td>\n",
       "      <td>0</td>\n",
       "      <td>-0.329131</td>\n",
       "      <td>-0.28525</td>\n",
       "    </tr>\n",
       "    <tr>\n",
       "      <th>4</th>\n",
       "      <td>1</td>\n",
       "      <td>1</td>\n",
       "      <td>1</td>\n",
       "      <td>0</td>\n",
       "      <td>0</td>\n",
       "      <td>0</td>\n",
       "      <td>-0.276292</td>\n",
       "      <td>-0.28525</td>\n",
       "    </tr>\n",
       "  </tbody>\n",
       "</table>\n",
       "</div>"
      ],
      "text/plain": [
       "   DiaSemanaEjecProgramada  TipoAgente  DiaSemanaEjecInicio  Force_Complete  \\\n",
       "0                        1           1                    1               1   \n",
       "1                        1           1                    1               0   \n",
       "2                        1           1                    1               0   \n",
       "3                        1           1                    1               0   \n",
       "4                        1           1                    1               0   \n",
       "\n",
       "   Estado  EjecucionFeriado  duracion_int  promedio_int  \n",
       "0       0                 0      2.974465      -0.28525  \n",
       "1       0                 0     -0.228048      -0.28525  \n",
       "2       0                 0     -0.133856      -0.28525  \n",
       "3       0                 0     -0.329131      -0.28525  \n",
       "4       0                 0     -0.276292      -0.28525  "
      ]
     },
     "execution_count": 20,
     "metadata": {},
     "output_type": "execute_result"
    }
   ],
   "source": [
    "csv.head()"
   ]
  },
  {
   "cell_type": "code",
   "execution_count": 26,
   "metadata": {
    "collapsed": true
   },
   "outputs": [],
   "source": [
    "# Saving csv\n",
    "csv.to_csv('processed_data.csv')"
   ]
  },
  {
   "cell_type": "code",
   "execution_count": 25,
   "metadata": {},
   "outputs": [
    {
     "data": {
      "text/plain": [
       "<matplotlib.axes._subplots.AxesSubplot at 0x7fc25772d1d0>"
      ]
     },
     "execution_count": 25,
     "metadata": {},
     "output_type": "execute_result"
    },
    {
     "data": {
      "image/png": "[encoded data removed]",
      "text/plain": [
       "<matplotlib.figure.Figure at 0x7fc257bebbe0>"
      ]
     },
     "metadata": {},
     "output_type": "display_data"
    }
   ],
   "source": [
    "import seaborn as sns\n",
    "corr = csv.corr()\n",
    "sns.heatmap(corr, \n",
    "            xticklabels=corr.columns.values,\n",
    "            yticklabels=corr.columns.values)"
   ]
  }
 ],
 "metadata": {
  "kernelspec": {
   "display_name": "Python 3",
   "language": "python",
   "name": "python3"
  },
  "language_info": {
   "codemirror_mode": {
    "name": "ipython",
    "version": 3
   },
   "file_extension": ".py",
   "mimetype": "text/x-python",
   "name": "python",
   "nbconvert_exporter": "python",
   "pygments_lexer": "ipython3",
   "version": "3.6.4"
  }
 },
 "nbformat": 4,
 "nbformat_minor": 2
}
