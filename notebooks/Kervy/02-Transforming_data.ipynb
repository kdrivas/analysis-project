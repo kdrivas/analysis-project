{
 "cells": [
  {
   "cell_type": "code",
   "execution_count": 2,
   "metadata": {},
   "outputs": [],
   "source": [
    "from pandas_summary import DataFrameSummary\n",
    "from pathlib import Path\n",
    "\n",
    "import os, math\n",
    "import pandas as pd\n",
    "import matplotlib.pyplot as plt\n",
    "import numpy as np\n",
    "import seaborn as sns\n",
    "\n",
    "sns.set()\n",
    "os.chdir('/home/krivas/projects/analysis-project/')\n",
    "from src.utils import convertInt, convertDate, add_datediffs, add_dayscount\n",
    "\n",
    "%matplotlib inline"
   ]
  },
  {
   "cell_type": "code",
   "execution_count": null,
   "metadata": {},
   "outputs": [],
   "source": [
    "DATA        = Path('data')\n",
    "RAW         = DATA/'raw'\n",
    "PROCESSED   = DATA/'processed'"
   ]
  },
  {
   "cell_type": "markdown",
   "metadata": {},
   "source": [
    "# Transforming data"
   ]
  },
  {
   "cell_type": "code",
   "execution_count": 4,
   "metadata": {},
   "outputs": [],
   "source": [
    "csv = pd.read_excel(RAW/'HistoricoJob01.csv.xlsx')"
   ]
  },
  {
   "cell_type": "code",
   "execution_count": null,
   "metadata": {},
   "outputs": [],
   "source": [
    "%%time\n",
    "for count in range(2, 8):\n",
    "    csv = pd.concat([csv, pd.read_excel(RAW/f'HistoricoJob0{count}.csv.xlsx')])"
   ]
  },
  {
   "cell_type": "code",
   "execution_count": null,
   "metadata": {},
   "outputs": [],
   "source": [
    "csv['Duracion'] = csv['Duracion'].astype(str)\n",
    "csv['Promedio'] = csv['Promedio'].astype(str)\n",
    "csv['Fecha_Ejec_Inicio'] = csv['Fecha_Ejec_Inicio'].astype(str)\n",
    "csv['Fecha_Ejec_Fin'] = csv['Fecha_Ejec_Fin'].astype(str)\n",
    "csv['Fecha_Carga_Scheduler'] = csv['Fecha_Carga_Scheduler'].astype(str)"
   ]
  },
  {
   "cell_type": "code",
   "execution_count": null,
   "metadata": {},
   "outputs": [],
   "source": [
    "%%time\n",
    "csv['duracion_int'] = csv.apply(lambda row: convertInt(row, 'Duracion'), axis=1) "
   ]
  },
  {
   "cell_type": "code",
   "execution_count": null,
   "metadata": {},
   "outputs": [],
   "source": [
    "%%time\n",
    "csv['promedio_int'] = csv.apply(lambda row: convertInt(row, 'Promedio'), axis=1) "
   ]
  },
  {
   "cell_type": "code",
   "execution_count": null,
   "metadata": {},
   "outputs": [],
   "source": [
    "%%time\n",
    "csv[['Fecha_Ejec_Inicio_Int', 'Hora_Ejec_Inicio_Int']] = csv.apply(lambda row: convertDate(row, 'Fecha_Ejec_Inicio'), axis=1)"
   ]
  },
  {
   "cell_type": "code",
   "execution_count": null,
   "metadata": {},
   "outputs": [],
   "source": [
    "%%time\n",
    "csv[['Fecha_Ejec_Fin_Int', 'Hora_Ejec_Fin_Int']] = csv.apply(lambda row: convertDate(row, 'Fecha_Ejec_Fin'), axis=1)"
   ]
  },
  {
   "cell_type": "code",
   "execution_count": null,
   "metadata": {},
   "outputs": [],
   "source": [
    "cat_columns = ['Agente', 'Mxrc', 'Maxcmpc', 'Grupo', 'Force_Complete', 'CCF', 'Estado']\n",
    "id_columns = ['Id_Job', 'Id_Malla']\n",
    "for column in cat_columns:\n",
    "    csv[column] = csv[column].astype('category').cat.codes"
   ]
  },
  {
   "cell_type": "code",
   "execution_count": null,
   "metadata": {},
   "outputs": [],
   "source": [
    "csv['hubo_error'] = csv.Mxrc.apply(lambda row: 0 if row == 0 else 1)"
   ]
  },
  {
   "cell_type": "code",
   "execution_count": null,
   "metadata": {},
   "outputs": [],
   "source": [
    "EARLY_MORNING = 21600\n",
    "MORNING = 43200      \n",
    "AFTERNOON = 64800\n",
    "\n",
    "def decide_time(vals):\n",
    "\n",
    "    if vals < EARLY_MORNING:\n",
    "        return 0\n",
    "    elif vals < MORNING:\n",
    "        return 1\n",
    "    elif vals < AFTERNOON:\n",
    "        return 2\n",
    "    else:\n",
    "        return 3\n",
    "\n",
    "csv['tiempo'] = csv.apply(lambda row: decide_time(row['Hora_Ejec_Inicio_Int']), axis=1)"
   ]
  },
  {
   "cell_type": "code",
   "execution_count": null,
   "metadata": {},
   "outputs": [],
   "source": [
    "csv.to_csv(PROCESSED/'HistoricoJob.csv', index=False)"
   ]
  }
 ],
 "metadata": {
  "kernelspec": {
   "display_name": "Python 3",
   "language": "python",
   "name": "python3"
  },
  "language_info": {
   "codemirror_mode": {
    "name": "ipython",
    "version": 3
   },
   "file_extension": ".py",
   "mimetype": "text/x-python",
   "name": "python",
   "nbconvert_exporter": "python",
   "pygments_lexer": "ipython3",
   "version": "3.6.4"
  }
 },
 "nbformat": 4,
 "nbformat_minor": 2
}
